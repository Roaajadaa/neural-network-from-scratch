{
 "cells": [
  {
   "cell_type": "markdown",
   "id": "545321ed",
   "metadata": {},
   "source": [
    "# Neural Network From Scratch "
   ]
  },
  {
   "cell_type": "code",
   "execution_count": 4,
   "id": "671edac8-7dbd-4008-bdf6-62683e608aaf",
   "metadata": {},
   "outputs": [
    {
     "data": {
      "text/plain": [
       "'\\nThis code is a tutorial on how to build a neural network from scratch in an easy way. \\nIt covers building layers, and implementing loss functions and includes a small explanation of each piece of code. \\nThe tutorial also tests the neural network with spiral data.\\nI wrote down everything I learned from every cell in it.\\n'"
      ]
     },
     "execution_count": 4,
     "metadata": {},
     "output_type": "execute_result"
    }
   ],
   "source": [
    "\"\"\"\n",
    "This code is a tutorial on how to build a neural network from scratch in an easy way. \n",
    "It covers building layers, and implementing loss functions and includes a small explanation of each piece of code. \n",
    "The tutorial also tests the neural network with spiral data.\n",
    "I wrote down everything I learned from every cell in it.\n",
    "\"\"\""
   ]
  },
  {
   "cell_type": "code",
   "execution_count": 5,
   "id": "e3af7094",
   "metadata": {},
   "outputs": [],
   "source": [
    "import numpy as np \n",
    "import nnfs\n",
    "from nnfs.datasets import spiral_data \n",
    "import matplotlib.pyplot as plt\n",
    "import math "
   ]
  },
  {
   "cell_type": "code",
   "execution_count": 6,
   "id": "97125a0c",
   "metadata": {},
   "outputs": [
    {
     "name": "stdout",
     "output_type": "stream",
     "text": [
      "2.3\n"
     ]
    }
   ],
   "source": [
    "inputs = [1,2,3] # inputs for neurons in input layers  \n",
    "weights = [0.2,0.8,-0.5 ] # each input has a weight \n",
    "bias  = 2 \n",
    "\n",
    "outputs = inputs[0] * weights [0] +  inputs[1] * weights[1] + inputs[2] * weights [2] + bias  # this output of just one nuorn \n",
    "print(outputs)"
   ]
  },
  {
   "cell_type": "code",
   "execution_count": 7,
   "id": "2b5cc974",
   "metadata": {},
   "outputs": [
    {
     "name": "stdout",
     "output_type": "stream",
     "text": [
      "[4.8, 1.21, 2.385]\n"
     ]
    }
   ],
   "source": [
    "inputs = [1, 2, 3,2.5]  # inputs for \n",
    "\n",
    "weights1 = [0.2,0.8 ,-0.5,1.0] # all weights for neuorn 1 \n",
    "weights2 = [0.5,-0.91,0.26,-0.5] # all weights for neuorn 2 \n",
    "weights3 = [-0.26,-0.27,0.17,0.87] # all weights for neuorn 3 \n",
    "\n",
    "bias1 = 2\n",
    "bias2 = 3\n",
    "bias3 = 0.5\n",
    "\n",
    "output_from_layer_1 = [inputs[0] * weights1[0] +  inputs[1] * weights1[1] + inputs[2] * weights1 [2] +  inputs[3] * weights1 [3] + bias1 , # this output of just one nuorn from layer1 \n",
    "         inputs[0] * weights2[0] +  inputs[1] * weights2[1] + inputs[2] * weights2[2] + inputs[3] * weights2 [3] +  bias2,  \n",
    "         inputs[0] * weights3[0] +  inputs[1] * weights3[1] + inputs[2] * weights3[2] +  inputs[3] * weights3[3]  +bias3]\n",
    "\n",
    "# output_from_layer_1 => each output from each neuron in layer 1 \n",
    "# Each neuron has a unique set of weights and its bais\n",
    "print(output_from_layer_1)"
   ]
  },
  {
   "cell_type": "code",
   "execution_count": 8,
   "id": "0bf3e8c0",
   "metadata": {},
   "outputs": [],
   "source": [
    "# so far , we dont use any activation function  "
   ]
  },
  {
   "cell_type": "code",
   "execution_count": 9,
   "id": "ccea11a8",
   "metadata": {
    "scrolled": true
   },
   "outputs": [
    {
     "name": "stdout",
     "output_type": "stream",
     "text": [
      "([0.2, 0.8, -0.5, 1.0], 2)\n",
      "([0.5, -0.91, 0.26, -0.5], 3)\n",
      "([-0.26, -0.27, 0.17, 0.87], 0.5)\n"
     ]
    }
   ],
   "source": [
    "# Make the code more dynamic  \n",
    "inputs = [1,2,3,2.5] # neuorn for inputs \n",
    "weights = [weights1 , weights2 , weights3]\n",
    "biases = [bias1  , bias2 , bias3 ]\n",
    "\n",
    "zipped_data = zip(weights, biases) #using for combin each two corresponding elements (elements-wise) in the two lists  \n",
    "\n",
    "for pair in zipped_data:\n",
    "    print(pair)\n"
   ]
  },
  {
   "cell_type": "code",
   "execution_count": 10,
   "id": "94d88a74",
   "metadata": {},
   "outputs": [],
   "source": [
    "layer_otputs = []\n",
    "for neuron_weights , neuron_bais in zip(weights, biases): \n",
    "    neuorn_output = 0 # for each neuron in the layer \n",
    "    for n_inputs , weight in  zip(inputs, neuron_weights) :  \n",
    "        neuorn_output =neuorn_output + (n_inputs * weight)\n",
    "    neuorn_output = neuorn_output + neuron_bais\n",
    "    layer_otputs.append(neuorn_output)"
   ]
  },
  {
   "cell_type": "code",
   "execution_count": 11,
   "id": "f8b64760",
   "metadata": {},
   "outputs": [
    {
     "data": {
      "text/plain": [
       "[4.8, 1.21, 2.385]"
      ]
     },
     "execution_count": 11,
     "metadata": {},
     "output_type": "execute_result"
    }
   ],
   "source": [
    "layer_otputs # outputs of three neurons in the layer"
   ]
  },
  {
   "cell_type": "code",
   "execution_count": 12,
   "id": "a739e05d",
   "metadata": {},
   "outputs": [
    {
     "data": {
      "text/plain": [
       "\"\\nwhen the two Matrices have the same shape, no matter which one comes first BUT when they are different (have different shapes) ,\\nit's important to take into account which one should be first \\n\\nhere the Multiplication is not commutative. >>> \\nthe number of cols in the first matrix = the number of rows in the second one \\n\\n\""
      ]
     },
     "execution_count": 12,
     "metadata": {},
     "output_type": "execute_result"
    }
   ],
   "source": [
    "\"\"\"\n",
    "when the two Matrices have the same shape, no matter which one comes first BUT when they are different (have different shapes) ,\n",
    "it's important to take into account which one should be first \n",
    "\n",
    "here the Multiplication is not commutative. >>> \n",
    "the number of cols in the first matrix = the number of rows in the second one \n",
    "\n",
    "\"\"\""
   ]
  },
  {
   "cell_type": "markdown",
   "id": "58c4fcd1-0073-46a9-83bb-cc63e68a9099",
   "metadata": {},
   "source": [
    "## So far, we have only dealt with one layer and one sample and not all the inputs"
   ]
  },
  {
   "cell_type": "code",
   "execution_count": 13,
   "id": "d72fb333",
   "metadata": {},
   "outputs": [],
   "source": [
    "# use batch of samples "
   ]
  },
  {
   "cell_type": "code",
   "execution_count": 14,
   "id": "c04b0045",
   "metadata": {},
   "outputs": [
    {
     "data": {
      "text/plain": [
       "\"\\nthe weights and biases relate to unique neurons , not with inputs => so they don't change with each sample \\n\\n\""
      ]
     },
     "execution_count": 14,
     "metadata": {},
     "output_type": "execute_result"
    }
   ],
   "source": [
    "inputs = [[1, 2,3,2.5], [2.0, 5.0,-1.0, 2.0], [-1.5, 2.7,3.3,-0.8]]    # batch of 3 samples\n",
    "\n",
    "weights = [weights1 , weights2 , weights3]\n",
    "\n",
    "biases = [bias1 , bias2 , bias3 ]  \n",
    "          \n",
    "\"\"\"\n",
    "the weights and biases relate to unique neurons , not with inputs => so they don't change with each sample \n",
    "\n",
    "\"\"\""
   ]
  },
  {
   "cell_type": "code",
   "execution_count": 15,
   "id": "d5672dbf",
   "metadata": {},
   "outputs": [],
   "source": [
    "# using Transpose "
   ]
  },
  {
   "cell_type": "code",
   "execution_count": 16,
   "id": "68ce31c7",
   "metadata": {},
   "outputs": [],
   "source": [
    "output = np.dot(inputs, np.array(weights).T) + biases # convert the weight list to the np array, to use T (transpose it )"
   ]
  },
  {
   "cell_type": "code",
   "execution_count": 17,
   "id": "affddbc1",
   "metadata": {},
   "outputs": [
    {
     "data": {
      "text/plain": [
       "array([[ 4.8  ,  1.21 ,  2.385],\n",
       "       [ 8.9  , -1.81 ,  0.2  ],\n",
       "       [ 1.41 ,  1.051,  0.026]])"
      ]
     },
     "execution_count": 17,
     "metadata": {},
     "output_type": "execute_result"
    }
   ],
   "source": [
    "output # each row represant the outputs from 3 neuorn when i input >>>"
   ]
  },
  {
   "cell_type": "code",
   "execution_count": 18,
   "id": "14b0245d",
   "metadata": {},
   "outputs": [
    {
     "data": {
      "text/plain": [
       "'\\n[[ 2.8  , -1.79 ,  1.885],\\n[ 6.9, -4.81, -0.3  ],  + [2, 3, 0.5]   => each row in the first with the only row in the second \\n[-0.59, -1.949, -0.474]]\\n\\nthe output of neuron 1 (2.8) + the bais1 (2) .. etc \\n\\nNOTE \\nthe size of weights = the many neurons we have. \\n'"
      ]
     },
     "execution_count": 18,
     "metadata": {},
     "output_type": "execute_result"
    }
   ],
   "source": [
    "\"\"\"\n",
    "[[ 2.8  , -1.79 ,  1.885],\n",
    "[ 6.9, -4.81, -0.3  ],  + [2, 3, 0.5]   => each row in the first with the only row in the second \n",
    "[-0.59, -1.949, -0.474]]\n",
    "\n",
    "the output of neuron 1 (2.8) + the bais1 (2) .. etc \n",
    "\n",
    "NOTE \n",
    "the size of weights = the many neurons we have. \n",
    "\"\"\""
   ]
  },
  {
   "cell_type": "code",
   "execution_count": 19,
   "id": "73e89859",
   "metadata": {},
   "outputs": [],
   "source": [
    "# Now we wanna  add another layer => This means we want another set of biases and weights "
   ]
  },
  {
   "cell_type": "code",
   "execution_count": 20,
   "id": "3e1e1f49",
   "metadata": {},
   "outputs": [],
   "source": [
    "weights2 = [[0.1, -0.14, 0.5], [ -0.5, 0.12, -0.33 ], [-0.44, 0.73, -0.13]] # This means the second layer has 3 neurons \n",
    "\n",
    "# Just three weights in each list because the first layers (as inputs for the second layer  ) have just three neurons. \n",
    "\n",
    "baises2 = [-1 , 2 , -0.5 ]  "
   ]
  },
  {
   "cell_type": "code",
   "execution_count": 21,
   "id": "3aa6368b",
   "metadata": {},
   "outputs": [],
   "source": [
    "# the inputs are the outputs of layer one "
   ]
  },
  {
   "cell_type": "code",
   "execution_count": 22,
   "id": "260ddecb",
   "metadata": {},
   "outputs": [],
   "source": [
    "output_from_layer2 =np.dot(output , np.array(weights2)) + baises2"
   ]
  },
  {
   "cell_type": "code",
   "execution_count": 23,
   "id": "8a2be2a8",
   "metadata": {},
   "outputs": [
    {
     "data": {
      "text/plain": [
       "array([[-2.1744 ,  3.21425,  1.19065],\n",
       "       [ 0.707  ,  0.6828 ,  4.5213 ],\n",
       "       [-1.39594,  1.9477 , -0.14521]])"
      ]
     },
     "execution_count": 23,
     "metadata": {},
     "output_type": "execute_result"
    }
   ],
   "source": [
    "output_from_layer2"
   ]
  },
  {
   "cell_type": "code",
   "execution_count": 24,
   "id": "866749a2",
   "metadata": {},
   "outputs": [],
   "source": [
    "# make the code more dynamic for many layers # using OOP\n",
    "# Since each layer has it's own parameters => inputs , weights, biases => so oop is more efficient to use "
   ]
  },
  {
   "cell_type": "code",
   "execution_count": 25,
   "id": "067d1c25",
   "metadata": {},
   "outputs": [],
   "source": [
    "\"\"\"\n",
    "#pass >> indicates that the constructor does nothing at the moment \n",
    "This line defines the constructor method __init__. \n",
    "The constructor is called when an instance of the class is created.\n",
    "\"\"\"\n",
    "class Layer_Dense: \n",
    "    # Constructor OR initializer => mainly used to initialize the object's attributes \n",
    "    # automatically called when an instance (object) of the class is created. \n",
    "    # using self to distinguish between instance variables and local variables within the method\n",
    "    def __init__(self , n_inputs , n_neuorns) : \n",
    "        # when u want to create a layer u want to define these parameters. \n",
    "        # instance variables => weights and biases \n",
    "        self.weights = 0.10 * np.random.randn( n_inputs , n_neuorns) # shape of weight = (# of inputs , # of neuorns)\n",
    "        # to make the weights less than 1 => normalization\n",
    "        self.baises = np.zeros((1 , n_neuorns)) # shape of baises = ( 1 , # neuorns ) \n",
    "        # np. zeros expect a tuple, unlike np. random.randn \n",
    "    def forward(self , n_inputs) :  # function prototype\n",
    "        self.output = np.dot(n_inputs , self.weights) + self.baises#initialized in the __init__ method"
   ]
  },
  {
   "cell_type": "code",
   "execution_count": 26,
   "id": "a02c867b",
   "metadata": {},
   "outputs": [],
   "source": [
    "# create objects/instances\n",
    "layer1 = Layer_Dense(4, 5) # u should pass the number of inputs and number of neurons in this layer \n",
    "layer2 = Layer_Dense (5 , 3 ) # number of neurons from layer1 (outputs) ==> number of inputs for layer2 "
   ]
  },
  {
   "cell_type": "code",
   "execution_count": 27,
   "id": "1514f06b",
   "metadata": {},
   "outputs": [],
   "source": [
    "layer1.forward(inputs)"
   ]
  },
  {
   "cell_type": "code",
   "execution_count": 28,
   "id": "7448e51c",
   "metadata": {},
   "outputs": [
    {
     "data": {
      "text/plain": [
       "array([[-0.08857262,  0.01802328, -0.01383389,  0.12910951,  0.18316632],\n",
       "       [-0.22401489, -0.11708626, -0.21716258,  0.1487675 ,  0.01518262],\n",
       "       [ 0.04048633, -0.00743105,  0.09917858,  0.13436409, -0.01838493],\n",
       "       [-0.005618  , -0.11761018, -0.04310317,  0.04572587,  0.00378071]])"
      ]
     },
     "execution_count": 28,
     "metadata": {},
     "output_type": "execute_result"
    }
   ],
   "source": [
    "layer1.weights"
   ]
  },
  {
   "cell_type": "code",
   "execution_count": 29,
   "id": "8b6d74fc",
   "metadata": {},
   "outputs": [
    {
     "data": {
      "text/plain": [
       "array([[0., 0., 0., 0., 0.]])"
      ]
     },
     "execution_count": 29,
     "metadata": {},
     "output_type": "execute_result"
    }
   ],
   "source": [
    "layer1.baises"
   ]
  },
  {
   "cell_type": "code",
   "execution_count": 30,
   "id": "1c4cdc79",
   "metadata": {},
   "outputs": [
    {
     "data": {
      "text/plain": [
       "array([[-0.42918838, -0.53246784, -0.25838124,  0.94405144,  0.16782854],\n",
       "       [-1.348942  , -0.77717407, -1.29886561,  0.95914414,  0.4681921 ],\n",
       "       [-0.33388196, -0.27360213, -0.20381628,  0.61482878, -0.29745125]])"
      ]
     },
     "execution_count": 30,
     "metadata": {},
     "output_type": "execute_result"
    }
   ],
   "source": [
    "layer1.output"
   ]
  },
  {
   "cell_type": "code",
   "execution_count": 31,
   "id": "6ee656dc",
   "metadata": {},
   "outputs": [],
   "source": [
    "layer2.forward(layer1.output)"
   ]
  },
  {
   "cell_type": "code",
   "execution_count": 32,
   "id": "fe2af322",
   "metadata": {},
   "outputs": [
    {
     "data": {
      "text/plain": [
       "array([[-0.18315365, -0.13839734, -0.22612994],\n",
       "       [-0.2935125 , -0.41110769, -0.51502283],\n",
       "       [-0.09385899, -0.01331345, -0.16616425]])"
      ]
     },
     "execution_count": 32,
     "metadata": {},
     "output_type": "execute_result"
    }
   ],
   "source": [
    "layer2.output"
   ]
  },
  {
   "cell_type": "markdown",
   "id": "64b46ecb-c8d9-4e6b-9bdf-11dc61d81b1b",
   "metadata": {},
   "source": [
    "# using activation functions"
   ]
  },
  {
   "cell_type": "code",
   "execution_count": 33,
   "id": "35be8d0d",
   "metadata": {},
   "outputs": [],
   "source": [
    "# simple Python implementation of the ReLU activation function\n",
    "# an explanation of how the Rectified Linear Unit (ReLU) activation function works\n",
    "inputs3 = [2 , 3 ,  0 , -50 , 70 , 90 , -9]\n",
    "output3 = []\n",
    "for i in inputs3 : \n",
    "    if i > 0 : \n",
    "        output3.append(i)      \n",
    "    else : \n",
    "        output3.append(0)"
   ]
  },
  {
   "cell_type": "code",
   "execution_count": 34,
   "id": "b4a3bd4a",
   "metadata": {},
   "outputs": [],
   "source": [
    "#OR\n",
    "for i in inputs3 : \n",
    "    output3.append(max(0,i))"
   ]
  },
  {
   "cell_type": "code",
   "execution_count": 35,
   "id": "7fa1f6c1",
   "metadata": {},
   "outputs": [],
   "source": [
    "class Activation_ReLU : # convention of nameing \n",
    "    def forward(self , inputs) : \n",
    "        self.output = np.maximum(0,inputs)"
   ]
  },
  {
   "cell_type": "code",
   "execution_count": 36,
   "id": "bf849dbb",
   "metadata": {},
   "outputs": [],
   "source": [
    "def spiral_data2(points, classes):\n",
    "    X = np.zeros((points*classes, 2))\n",
    "    y = np.zeros(points*classes, dtype='uint8')\n",
    "    for class_number in range(classes):\n",
    "        ix = range(points*class_number, points*(class_number+1))\n",
    "        r = np.linspace(0.0, 1, points)  # radius\n",
    "        t = np.linspace(class_number*4, (class_number+1)*4, points) + np.random.randn(points)*0.2\n",
    "        X[ix] = np.c_[r*np.sin(t*2.5), r*np.cos(t*2.5)]\n",
    "        y[ix] = class_number\n",
    "    return X, y"
   ]
  },
  {
   "cell_type": "code",
   "execution_count": 37,
   "id": "40555037",
   "metadata": {},
   "outputs": [],
   "source": [
    "X , y = spiral_data2(100 , 3)"
   ]
  },
  {
   "cell_type": "code",
   "execution_count": 38,
   "id": "9bc91a0b",
   "metadata": {},
   "outputs": [
    {
     "data": {
      "image/png": "[encoded data removed]",
      "text/plain": [
       "<Figure size 800x600 with 1 Axes>"
      ]
     },
     "metadata": {},
     "output_type": "display_data"
    }
   ],
   "source": [
    "plt.figure(figsize=(8, 6))\n",
    "for class_number in range(np.max(y) + 1):\n",
    "    plt.scatter(X[y == class_number][:, 0], X[y == class_number][:, 1], label=f'Class {class_number}')\n",
    "plt.title('Spiral Data')\n",
    "plt.xlabel('X1')\n",
    "plt.ylabel('X2')\n",
    "plt.legend()\n",
    "plt.show()"
   ]
  },
  {
   "cell_type": "code",
   "execution_count": 39,
   "id": "7d5afe55",
   "metadata": {
    "scrolled": true
   },
   "outputs": [
    {
     "data": {
      "text/plain": [
       "array([[0.        , 0.        , 0.        , 0.        , 0.        ],\n",
       "       [0.        , 0.        , 0.        , 0.00172761, 0.        ],\n",
       "       [0.        , 0.        , 0.        , 0.00340293, 0.        ],\n",
       "       ...,\n",
       "       [0.        , 0.10777084, 0.08799431, 0.        , 0.13035028],\n",
       "       [0.00892303, 0.14935193, 0.1106292 , 0.        , 0.21262759],\n",
       "       [0.        , 0.08571421, 0.07511241, 0.        , 0.08918032]])"
      ]
     },
     "execution_count": 39,
     "metadata": {},
     "output_type": "execute_result"
    }
   ],
   "source": [
    "# This data has two features so\n",
    "\n",
    "layer1 = Layer_Dense(2 , 5)\n",
    "layer1.forward(X)\n",
    "\n",
    "\n",
    "activation1 = Activation_ReLU() # This activation is for entire layer1 but it's not necessary to use the same activation for all neurons in the same layer \n",
    "activation1.forward(layer1.output)\n",
    "\n",
    "activation1.output"
   ]
  },
  {
   "cell_type": "code",
   "execution_count": 40,
   "id": "c84e77dc",
   "metadata": {},
   "outputs": [],
   "source": [
    "# Softmax activation => which is specifically used for the output layer in classification Task  \n",
    "# gives me a probability distribution. \n",
    "# ReLU => not efficient because if i have (-10, -9) => both give me zero, so can't determine which class is correct  "
   ]
  },
  {
   "cell_type": "markdown",
   "id": "c41ff3fd-553e-4982-89b5-07dc43168364",
   "metadata": {},
   "source": [
    "# Softmax activation"
   ]
  },
  {
   "cell_type": "code",
   "execution_count": 41,
   "id": "febfe9c7",
   "metadata": {},
   "outputs": [],
   "source": [
    "output_layer = [4.8 , 1.21 , 2.385] "
   ]
  },
  {
   "cell_type": "code",
   "execution_count": 42,
   "id": "899e622d-2329-4de7-96b8-db5b5b9d0b15",
   "metadata": {},
   "outputs": [],
   "source": [
    "e = math.e"
   ]
  },
  {
   "cell_type": "code",
   "execution_count": 43,
   "id": "45bf4b86-11aa-4e32-a295-277f97daad24",
   "metadata": {},
   "outputs": [
    {
     "data": {
      "text/plain": [
       "2.718281828459045"
      ]
     },
     "execution_count": 43,
     "metadata": {},
     "output_type": "execute_result"
    }
   ],
   "source": [
    "e"
   ]
  },
  {
   "cell_type": "code",
   "execution_count": 44,
   "id": "1f7af043",
   "metadata": {},
   "outputs": [],
   "source": [
    "exp_values = []\n",
    "\n",
    "for output in output_layer : \n",
    "    exp_values.append(e**output)"
   ]
  },
  {
   "cell_type": "code",
   "execution_count": 45,
   "id": "5ad6f133",
   "metadata": {},
   "outputs": [],
   "source": [
    "norm_base = sum (exp_values)"
   ]
  },
  {
   "cell_type": "code",
   "execution_count": 46,
   "id": "32d30336",
   "metadata": {},
   "outputs": [],
   "source": [
    "norm_values = [ ]\n",
    "for value in exp_values : \n",
    "    norm_values.append(value / norm_base)"
   ]
  },
  {
   "cell_type": "code",
   "execution_count": 47,
   "id": "91d9c5e1",
   "metadata": {},
   "outputs": [
    {
     "name": "stdout",
     "output_type": "stream",
     "text": [
      "[0.8952826639572619, 0.024708306782099374, 0.0800090292606387]\n"
     ]
    }
   ],
   "source": [
    "print(norm_values) # probability distribution . "
   ]
  },
  {
   "cell_type": "code",
   "execution_count": 48,
   "id": "8c2f253c",
   "metadata": {},
   "outputs": [
    {
     "name": "stdout",
     "output_type": "stream",
     "text": [
      "0.9999999999999999\n"
     ]
    }
   ],
   "source": [
    "print(sum(norm_values)) # sum is a built-in Python function"
   ]
  },
  {
   "cell_type": "code",
   "execution_count": 49,
   "id": "099f2283",
   "metadata": {},
   "outputs": [],
   "source": [
    "## Re-implement Softmax activation¶ using numpy "
   ]
  },
  {
   "cell_type": "code",
   "execution_count": 50,
   "id": "1b92e302",
   "metadata": {},
   "outputs": [],
   "source": [
    "exp_values_np = np.exp(output_layer)\n",
    "norm_values_np = exp_values_np / np.sum(exp_values_np) # normlization "
   ]
  },
  {
   "cell_type": "code",
   "execution_count": 51,
   "id": "2b9329ab",
   "metadata": {},
   "outputs": [
    {
     "data": {
      "text/plain": [
       "array([0.89528266, 0.02470831, 0.08000903])"
      ]
     },
     "execution_count": 51,
     "metadata": {},
     "output_type": "execute_result"
    }
   ],
   "source": [
    "norm_values_np"
   ]
  },
  {
   "cell_type": "code",
   "execution_count": 52,
   "id": "4be13338",
   "metadata": {},
   "outputs": [],
   "source": [
    "# batch of outputs for a batch of inputs \n",
    "output_layer_batchs= [[4.8 , 1.21 , 2.385],\n",
    "                [8.9, 1.81, 0.2],\n",
    "                [1.41,1.051, 0.026]] "
   ]
  },
  {
   "cell_type": "code",
   "execution_count": 53,
   "id": "37f576c7",
   "metadata": {},
   "outputs": [
    {
     "data": {
      "text/plain": [
       "21.792"
      ]
     },
     "execution_count": 53,
     "metadata": {},
     "output_type": "execute_result"
    }
   ],
   "source": [
    "np.sum(output_layer_batchs) # sumation of all values in metrix "
   ]
  },
  {
   "cell_type": "code",
   "execution_count": 54,
   "id": "1eef5bea",
   "metadata": {},
   "outputs": [
    {
     "data": {
      "text/plain": [
       "array([15.11 ,  4.071,  2.611])"
      ]
     },
     "execution_count": 54,
     "metadata": {},
     "output_type": "execute_result"
    }
   ],
   "source": [
    "np.sum( output_layer_batchs , axis = 0) # 0 sum of col"
   ]
  },
  {
   "cell_type": "code",
   "execution_count": 55,
   "id": "15fa6d0f",
   "metadata": {},
   "outputs": [
    {
     "data": {
      "text/plain": [
       "array([ 8.395, 10.91 ,  2.487])"
      ]
     },
     "execution_count": 55,
     "metadata": {},
     "output_type": "execute_result"
    }
   ],
   "source": [
    "np.sum( output_layer_batchs, axis = 1) # sum of the rows and this is what we need, each row for a specific sample "
   ]
  },
  {
   "cell_type": "code",
   "execution_count": 56,
   "id": "fb002264",
   "metadata": {},
   "outputs": [
    {
     "data": {
      "text/plain": [
       "array([[1.21510418e+02, 3.35348465e+00, 1.08590627e+01],\n",
       "       [7.33197354e+03, 6.11044743e+00, 1.22140276e+00],\n",
       "       [4.09595540e+00, 2.86051020e+00, 1.02634095e+00]])"
      ]
     },
     "execution_count": 56,
     "metadata": {},
     "output_type": "execute_result"
    }
   ],
   "source": [
    "np.exp(output_layer_batchs)"
   ]
  },
  {
   "cell_type": "code",
   "execution_count": 57,
   "id": "eb7d5dd0",
   "metadata": {},
   "outputs": [
    {
     "data": {
      "text/plain": [
       "array([ 135.72296484, 7339.30538935,    7.98280655])"
      ]
     },
     "execution_count": 57,
     "metadata": {},
     "output_type": "execute_result"
    }
   ],
   "source": [
    "np.sum( np.exp(output_layer_batchs) , axis = 1)"
   ]
  },
  {
   "cell_type": "code",
   "execution_count": 58,
   "id": "611a570a",
   "metadata": {},
   "outputs": [],
   "source": [
    "norm_values_b = np.exp(output_layer_batchs) / np.sum(output_layer_batchs , axis = 1 , keepdims = True) "
   ]
  },
  {
   "cell_type": "code",
   "execution_count": 59,
   "id": "8dc16460",
   "metadata": {},
   "outputs": [
    {
     "data": {
      "text/plain": [
       "array([[1.44741415e+01, 3.99462138e-01, 1.29351551e+00],\n",
       "       [6.72041571e+02, 5.60077675e-01, 1.11952590e-01],\n",
       "       [1.64694628e+00, 1.15018504e+00, 4.12682327e-01]])"
      ]
     },
     "execution_count": 59,
     "metadata": {},
     "output_type": "execute_result"
    }
   ],
   "source": [
    "norm_values_b"
   ]
  },
  {
   "cell_type": "code",
   "execution_count": 60,
   "id": "7749948e-75b1-443b-a9f0-5ca77f1b8f7a",
   "metadata": {},
   "outputs": [],
   "source": [
    "# using OOP"
   ]
  },
  {
   "cell_type": "code",
   "execution_count": 61,
   "id": "144af229",
   "metadata": {},
   "outputs": [],
   "source": [
    "class Activation_Softmax : \n",
    "    def forward(self , inputs):\n",
    "        exp_values = np.exp(inputs - np.max (inputs , axis = 1 , keepdims = True)) # \"max trick\"\n",
    "        probabilities  = exp_values / np.sum(exp_values , axis = 1 , keepdims =True ) # The first row is divided by the first element \n",
    "        self.output = probabilities"
   ]
  },
  {
   "cell_type": "code",
   "execution_count": 62,
   "id": "6e452c9e",
   "metadata": {},
   "outputs": [],
   "source": [
    "exp_values =np.max(output_layer_batchs, axis=1, keepdims=True) # give me the max value in each row "
   ]
  },
  {
   "cell_type": "code",
   "execution_count": 63,
   "id": "6740d05c",
   "metadata": {},
   "outputs": [
    {
     "name": "stdout",
     "output_type": "stream",
     "text": [
      "[[4.8 ]\n",
      " [8.9 ]\n",
      " [1.41]]\n"
     ]
    }
   ],
   "source": [
    "print(exp_values)"
   ]
  },
  {
   "cell_type": "code",
   "execution_count": 64,
   "id": "b625704e",
   "metadata": {},
   "outputs": [],
   "source": [
    "exp_values = output_layer_batchs - np.max(output_layer_batchs , axis = 1 , keepdims = True)"
   ]
  },
  {
   "cell_type": "code",
   "execution_count": 65,
   "id": "932411b0",
   "metadata": {},
   "outputs": [
    {
     "data": {
      "text/plain": [
       "array([[ 0.   , -3.59 , -2.415],\n",
       "       [ 0.   , -7.09 , -8.7  ],\n",
       "       [ 0.   , -0.359, -1.384]])"
      ]
     },
     "execution_count": 65,
     "metadata": {},
     "output_type": "execute_result"
    }
   ],
   "source": [
    "exp_values"
   ]
  },
  {
   "cell_type": "code",
   "execution_count": 66,
   "id": "a4250ac8",
   "metadata": {},
   "outputs": [],
   "source": [
    "inputs = np.array([1000, 1001, 1002])"
   ]
  },
  {
   "cell_type": "code",
   "execution_count": 67,
   "id": "414fbeb0",
   "metadata": {},
   "outputs": [
    {
     "name": "stdout",
     "output_type": "stream",
     "text": [
      "[nan nan nan]\n"
     ]
    },
    {
     "name": "stderr",
     "output_type": "stream",
     "text": [
      "C:\\Users\\IMOE001\\AppData\\Local\\Temp\\ipykernel_4932\\2967752028.py:1: RuntimeWarning: overflow encountered in exp\n",
      "  probabilities = np.exp(inputs) / np.sum(np.exp(inputs))\n",
      "C:\\Users\\IMOE001\\AppData\\Local\\Temp\\ipykernel_4932\\2967752028.py:1: RuntimeWarning: invalid value encountered in divide\n",
      "  probabilities = np.exp(inputs) / np.sum(np.exp(inputs))\n"
     ]
    }
   ],
   "source": [
    "probabilities = np.exp(inputs) / np.sum(np.exp(inputs))\n",
    "print(probabilities)"
   ]
  },
  {
   "cell_type": "code",
   "execution_count": 68,
   "id": "17735762",
   "metadata": {},
   "outputs": [
    {
     "data": {
      "text/plain": [
       "'\\nThe above case called Numerical Stability  =>  Exponentiating large numbers can lead to numerical overflow, w\\nhere the resulting values are too large to be represented accurately by the floating-point format used in computers\\nso to solve this problem u can use \"max trick\" before Calculating exponentials\\n'"
      ]
     },
     "execution_count": 68,
     "metadata": {},
     "output_type": "execute_result"
    }
   ],
   "source": [
    "\"\"\"\n",
    "The above case called Numerical Stability  =>  Exponentiating large numbers can lead to numerical overflow, w\n",
    "here the resulting values are too large to be represented accurately by the floating-point format used in computers\n",
    "so to solve this problem u can use \"max trick\" before Calculating exponentials\n",
    "\"\"\""
   ]
  },
  {
   "cell_type": "markdown",
   "id": "5b4b311e-b416-4767-8e69-4666aeae0164",
   "metadata": {},
   "source": [
    "# Testing Phase"
   ]
  },
  {
   "cell_type": "code",
   "execution_count": 69,
   "id": "59e8f6a7",
   "metadata": {},
   "outputs": [
    {
     "name": "stdout",
     "output_type": "stream",
     "text": [
      "[[0.33333333 0.33333333 0.33333333]\n",
      " [0.33333333 0.33333333 0.33333333]\n",
      " [0.3332847  0.33330409 0.33341122]\n",
      " [0.33325178 0.33328075 0.33346747]\n",
      " [0.33322696 0.33326563 0.3335074 ]\n",
      " [0.33327194 0.33330317 0.33342489]\n",
      " [0.33333333 0.33333333 0.33333333]\n",
      " [0.33333333 0.33333333 0.33333333]\n",
      " [0.33312423 0.33320161 0.33367416]\n",
      " [0.33333333 0.33333333 0.33333333]\n",
      " [0.33333333 0.33333333 0.33333333]\n",
      " [0.33333106 0.33333222 0.33333672]\n",
      " [0.33333333 0.33333333 0.33333333]\n",
      " [0.33333333 0.33333333 0.33333333]\n",
      " [0.33333333 0.33333333 0.33333333]\n",
      " [0.33333333 0.33333333 0.33333333]\n",
      " [0.3334161  0.33331651 0.33326739]\n",
      " [0.33333333 0.33333333 0.33333333]\n",
      " [0.33350478 0.33329848 0.33319674]\n",
      " [0.33333333 0.33333333 0.33333333]\n",
      " [0.33333333 0.33333333 0.33333333]\n",
      " [0.33333333 0.33333333 0.33333333]\n",
      " [0.33333333 0.33333333 0.33333333]\n",
      " [0.33333333 0.33333333 0.33333333]\n",
      " [0.33333333 0.33333333 0.33333333]\n",
      " [0.33356616 0.33328599 0.33314785]\n",
      " [0.33353088 0.33329317 0.33317595]\n",
      " [0.33333333 0.33333333 0.33333333]\n",
      " [0.33333333 0.33333333 0.33333333]\n",
      " [0.33347293 0.33330496 0.33322212]\n",
      " [0.33347572 0.33330439 0.33321989]\n",
      " [0.33355716 0.33328782 0.33315502]\n",
      " [0.33364265 0.33327042 0.33308693]\n",
      " [0.33358587 0.33277963 0.3336345 ]\n",
      " [0.33373497 0.33325162 0.33301341]\n",
      " [0.3337283  0.33310825 0.33316345]\n",
      " [0.33349923 0.33329961 0.33320116]\n",
      " [0.33333333 0.33333333 0.33333333]\n",
      " [0.33298087 0.33195781 0.33506132]\n",
      " [0.33362299 0.33265722 0.33371979]\n",
      " [0.33361409 0.33260012 0.3337858 ]\n",
      " [0.33211366 0.33124349 0.33664285]\n",
      " [0.33312104 0.33196594 0.33491301]\n",
      " [0.33239447 0.33136043 0.33624509]\n",
      " [0.33242611 0.33135237 0.33622151]\n",
      " [0.33106763 0.33080281 0.33812956]\n",
      " [0.33210291 0.33107262 0.33682447]\n",
      " [0.33185643 0.33089325 0.33725032]\n",
      " [0.33088968 0.33065104 0.33845928]\n",
      " [0.33095644 0.33054305 0.33850051]\n",
      " [0.33142116 0.33187905 0.3366998 ]\n",
      " [0.33061739 0.33075838 0.33862423]\n",
      " [0.33056873 0.3306512  0.33878007]\n",
      " [0.33058056 0.33096849 0.33845095]\n",
      " [0.33088831 0.33025064 0.33886105]\n",
      " [0.33138566 0.33189888 0.33671547]\n",
      " [0.33229763 0.33282326 0.33487911]\n",
      " [0.33030011 0.33040599 0.3392939 ]\n",
      " [0.33149424 0.33204516 0.3364606 ]\n",
      " [0.33311663 0.33322683 0.33365654]\n",
      " [0.33236868 0.33285833 0.33477299]\n",
      " [0.3318289  0.33241797 0.33575313]\n",
      " [0.33266064 0.33300234 0.33433702]\n",
      " [0.33137592 0.33197555 0.33664853]\n",
      " [0.33111914 0.33171864 0.33716222]\n",
      " [0.33270936 0.33302635 0.33426429]\n",
      " [0.33164933 0.33228587 0.3360648 ]\n",
      " [0.33306433 0.33320111 0.33373456]\n",
      " [0.33333333 0.33333333 0.33333333]\n",
      " [0.33329517 0.33331459 0.33339025]\n",
      " [0.33319689 0.33326629 0.33353682]\n",
      " [0.33333333 0.33333333 0.33333333]\n",
      " [0.33333333 0.33333333 0.33333333]\n",
      " [0.33315296 0.33324469 0.33360235]\n",
      " [0.33333333 0.33333333 0.33333333]\n",
      " [0.33333333 0.33333333 0.33333333]\n",
      " [0.33333333 0.33333333 0.33333333]\n",
      " [0.33333333 0.33333333 0.33333333]\n",
      " [0.33333333 0.33333333 0.33333333]\n",
      " [0.33333333 0.33333333 0.33333333]\n",
      " [0.33333333 0.33333333 0.33333333]\n",
      " [0.33333333 0.33333333 0.33333333]\n",
      " [0.33333333 0.33333333 0.33333333]\n",
      " [0.33333333 0.33333333 0.33333333]\n",
      " [0.33333333 0.33333333 0.33333333]\n",
      " [0.33333333 0.33333333 0.33333333]\n",
      " [0.33351305 0.33329679 0.33319015]\n",
      " [0.33333333 0.33333333 0.33333333]\n",
      " [0.33355446 0.33328837 0.33315717]\n",
      " [0.33420179 0.33315638 0.33264182]\n",
      " [0.33406061 0.33318522 0.33275418]\n",
      " [0.33333333 0.33333333 0.33333333]\n",
      " [0.33384077 0.33323006 0.33292917]\n",
      " [0.33363724 0.33327152 0.33309124]\n",
      " [0.33333333 0.33333333 0.33333333]\n",
      " [0.33289894 0.33028794 0.33681313]\n",
      " [0.3338307  0.33117868 0.33499062]\n",
      " [0.33069378 0.32854451 0.34076171]\n",
      " [0.33419831 0.33315709 0.33264459]\n",
      " [0.33408984 0.33167291 0.33423725]\n",
      " [0.33333333 0.33333333 0.33333333]\n",
      " [0.33331804 0.33329221 0.33338976]\n",
      " [0.33334498 0.33329105 0.33336398]\n",
      " [0.33318653 0.33316349 0.33364998]\n",
      " [0.33323969 0.33314523 0.33361508]\n",
      " [0.33323413 0.33311069 0.33365518]\n",
      " [0.33315732 0.33302873 0.33381395]\n",
      " [0.33327684 0.33308675 0.33363641]\n",
      " [0.33313068 0.332947   0.33392232]\n",
      " [0.33317942 0.33295086 0.33386972]\n",
      " [0.33339801 0.33313675 0.33346524]\n",
      " [0.33298156 0.33275859 0.33425985]\n",
      " [0.33269737 0.33271539 0.33458725]\n",
      " [0.33264343 0.33267122 0.33468535]\n",
      " [0.33300038 0.33267168 0.33432794]\n",
      " [0.33259715 0.3324839  0.33491895]\n",
      " [0.33266716 0.3324322  0.33490064]\n",
      " [0.33243037 0.33247395 0.33509569]\n",
      " [0.33287704 0.3330512  0.33407176]\n",
      " [0.33246437 0.33262483 0.3349108 ]\n",
      " [0.33227745 0.33228042 0.33544213]\n",
      " [0.33222737 0.3322187  0.33555394]\n",
      " [0.33216397 0.33222996 0.33560608]\n",
      " [0.33211074 0.33219814 0.33569112]\n",
      " [0.33219337 0.33238989 0.33541674]\n",
      " [0.33310302 0.33322014 0.33367684]\n",
      " [0.33214863 0.33236864 0.33548273]\n",
      " [0.33287797 0.3331094  0.33401262]\n",
      " [0.33313288 0.33323482 0.33363229]\n",
      " [0.33243261 0.33270936 0.33485803]\n",
      " [0.33333333 0.33333333 0.33333333]\n",
      " [0.33290916 0.33312476 0.33396609]\n",
      " [0.33333333 0.33333333 0.33333333]\n",
      " [0.33333333 0.33333333 0.33333333]\n",
      " [0.33333333 0.33333333 0.33333333]\n",
      " [0.33296376 0.33315163 0.33388461]\n",
      " [0.33333333 0.33333333 0.33333333]\n",
      " [0.33333333 0.33333333 0.33333333]\n",
      " [0.33276939 0.33305593 0.33417469]\n",
      " [0.33333333 0.33333333 0.33333333]\n",
      " [0.33333333 0.33333333 0.33333333]\n",
      " [0.33333333 0.33333333 0.33333333]\n",
      " [0.33345211 0.33330919 0.3332387 ]\n",
      " [0.33333333 0.33333333 0.33333333]\n",
      " [0.33333333 0.33333333 0.33333333]\n",
      " [0.33364032 0.33327089 0.33308879]\n",
      " [0.33333333 0.33333333 0.33333333]\n",
      " [0.33333333 0.33333333 0.33333333]\n",
      " [0.33333333 0.33333333 0.33333333]\n",
      " [0.33336168 0.33332757 0.33331075]\n",
      " [0.33334304 0.33333136 0.3333256 ]\n",
      " [0.33333333 0.33333333 0.33333333]\n",
      " [0.33336896 0.33332609 0.33330495]\n",
      " [0.33392496 0.33297118 0.33310386]\n",
      " [0.33376646 0.3332452  0.33298834]\n",
      " [0.33370945 0.33325682 0.33303373]\n",
      " [0.33309298 0.33154907 0.33535795]\n",
      " [0.33385619 0.33322692 0.3329169 ]\n",
      " [0.33237867 0.33090161 0.33671972]\n",
      " [0.33394291 0.33277734 0.33327975]\n",
      " [0.33322108 0.33155281 0.33522611]\n",
      " [0.33401408 0.33319471 0.33279121]\n",
      " [0.33108276 0.32996246 0.33895479]\n",
      " [0.33315819 0.331412   0.33542981]\n",
      " [0.33368526 0.33193857 0.33437617]\n",
      " [0.33170319 0.33021037 0.33808644]\n",
      " [0.33283604 0.33104459 0.33611938]\n",
      " [0.33287474 0.33104978 0.33607548]\n",
      " [0.33249664 0.33070549 0.33679787]\n",
      " [0.32965771 0.32979254 0.34054975]\n",
      " [0.33158941 0.32997828 0.33843231]\n",
      " [0.32981931 0.32930234 0.34087836]\n",
      " [0.33384281 0.33202503 0.33413216]\n",
      " [0.33207847 0.33023413 0.3376874 ]\n",
      " [0.32956546 0.33012337 0.34031117]\n",
      " [0.33089727 0.32939815 0.33970458]\n",
      " [0.33047565 0.32915819 0.34036616]\n",
      " [0.32922906 0.32957679 0.34119415]\n",
      " [0.32994528 0.33062176 0.33943295]\n",
      " [0.3292122  0.32900233 0.34178547]\n",
      " [0.32940717 0.33003834 0.34055449]\n",
      " [0.32947521 0.33013345 0.34039134]\n",
      " [0.32898495 0.32899023 0.34202482]\n",
      " [0.32977723 0.32862572 0.34159705]\n",
      " [0.33153142 0.33234268 0.33612591]\n",
      " [0.32976448 0.32853108 0.34170444]\n",
      " [0.33077819 0.33159902 0.33762278]\n",
      " [0.32957704 0.33033336 0.3400896 ]\n",
      " [0.33302895 0.33318371 0.33378734]\n",
      " [0.33333333 0.33333333 0.33333333]\n",
      " [0.32990542 0.33072756 0.33936702]\n",
      " [0.33045854 0.33132108 0.33822038]\n",
      " [0.3328857  0.33311321 0.33400109]\n",
      " [0.33333333 0.33333333 0.33333333]\n",
      " [0.33154429 0.33245054 0.33600517]\n",
      " [0.33333333 0.33333333 0.33333333]\n",
      " [0.33246415 0.33290544 0.33463041]\n",
      " [0.33333333 0.33333333 0.33333333]\n",
      " [0.33333333 0.33333333 0.33333333]\n",
      " [0.33333333 0.33333333 0.33333333]\n",
      " [0.33333333 0.33333333 0.33333333]\n",
      " [0.33333333 0.33333333 0.33333333]\n",
      " [0.33333333 0.33333333 0.33333333]\n",
      " [0.33333333 0.33333333 0.33333333]\n",
      " [0.33333333 0.33333333 0.33333333]\n",
      " [0.33333333 0.33333333 0.33333333]\n",
      " [0.33333333 0.33333333 0.33333333]\n",
      " [0.33333333 0.33333333 0.33333333]\n",
      " [0.33336478 0.33332694 0.33330828]\n",
      " [0.33333333 0.33333333 0.33333333]\n",
      " [0.33333333 0.33333333 0.33333333]\n",
      " [0.33344935 0.33323696 0.33331369]\n",
      " [0.33338773 0.33332228 0.33328999]\n",
      " [0.33333333 0.33333333 0.33333333]\n",
      " [0.33333333 0.33333333 0.33333333]\n",
      " [0.33333333 0.33333333 0.33333333]\n",
      " [0.33352848 0.33328019 0.33319133]\n",
      " [0.33343882 0.33331189 0.33324929]\n",
      " [0.33333333 0.33333333 0.33333333]\n",
      " [0.33350134 0.33329918 0.33319948]\n",
      " [0.33351189 0.33329703 0.33319108]\n",
      " [0.33351284 0.33329684 0.33319032]\n",
      " [0.33354685 0.33308545 0.3333677 ]\n",
      " [0.33250643 0.3320863  0.33540726]\n",
      " [0.33301812 0.33238809 0.3345938 ]\n",
      " [0.33334196 0.33264164 0.3340164 ]\n",
      " [0.33272028 0.33210858 0.33517113]\n",
      " [0.33287601 0.33219009 0.33493391]\n",
      " [0.33304306 0.33229383 0.33466311]\n",
      " [0.33277238 0.33205366 0.33517395]\n",
      " [0.33207675 0.33164118 0.33628207]\n",
      " [0.33232694 0.33170602 0.33596704]\n",
      " [0.33298674 0.33213327 0.33487999]\n",
      " [0.33275398 0.33192099 0.33532502]\n",
      " [0.33252356 0.3317267  0.33574974]\n",
      " [0.33272232 0.33183811 0.33543957]\n",
      " [0.33210981 0.3314154  0.33647479]\n",
      " [0.33275033 0.33180068 0.33544899]\n",
      " [0.33201202 0.33129421 0.33669377]\n",
      " [0.33155543 0.33110743 0.33733714]\n",
      " [0.3312128  0.33144522 0.33734198]\n",
      " [0.33121712 0.33107147 0.33771141]\n",
      " [0.33263276 0.3329886  0.33437864]\n",
      " [0.3316003  0.33092774 0.33747196]\n",
      " [0.33135612 0.33173132 0.33691255]\n",
      " [0.33095252 0.33124199 0.33780549]\n",
      " [0.33191808 0.33235695 0.33572497]\n",
      " [0.33142993 0.33185218 0.33671789]\n",
      " [0.33313171 0.33323425 0.33363404]\n",
      " [0.33257103 0.33295817 0.3344708 ]\n",
      " [0.33273084 0.33303693 0.33423223]\n",
      " [0.33074969 0.33047325 0.33877706]\n",
      " [0.33064505 0.33102864 0.33832631]\n",
      " [0.33201282 0.33252475 0.33546243]\n",
      " [0.33201516 0.33253697 0.33544787]\n",
      " [0.3315684  0.33209016 0.33634144]\n",
      " [0.33208569 0.33262731 0.335287  ]\n",
      " [0.3333331  0.33333322 0.33333368]\n",
      " [0.33333333 0.33333333 0.33333333]\n",
      " [0.33278187 0.33306207 0.33415606]\n",
      " [0.33333333 0.33333333 0.33333333]\n",
      " [0.33333333 0.33333333 0.33333333]\n",
      " [0.33333333 0.33333333 0.33333333]\n",
      " [0.33333333 0.33333333 0.33333333]\n",
      " [0.33333333 0.33333333 0.33333333]\n",
      " [0.33333333 0.33333333 0.33333333]\n",
      " [0.33333333 0.33333333 0.33333333]\n",
      " [0.33333333 0.33333333 0.33333333]\n",
      " [0.33333333 0.33333333 0.33333333]\n",
      " [0.33333333 0.33333333 0.33333333]\n",
      " [0.33333333 0.33333333 0.33333333]\n",
      " [0.33373556 0.3332515  0.33301294]\n",
      " [0.33361791 0.33327546 0.33310663]\n",
      " [0.33362515 0.33327398 0.33310087]\n",
      " [0.33358922 0.3332813  0.33312948]\n",
      " [0.33335151 0.33332964 0.33331885]\n",
      " [0.33370636 0.33325745 0.33303619]\n",
      " [0.33393384 0.33321108 0.33285508]\n",
      " [0.33351578 0.33329624 0.33318798]\n",
      " [0.33387645 0.33322278 0.33290076]\n",
      " [0.33333333 0.33333333 0.33333333]\n",
      " [0.33333333 0.33333333 0.33333333]\n",
      " [0.33427951 0.3331405  0.33257999]\n",
      " [0.33431874 0.33313248 0.33254878]\n",
      " [0.33352835 0.33329368 0.33317797]\n",
      " [0.33427422 0.33272617 0.33299961]\n",
      " [0.33207456 0.32985295 0.3380725 ]\n",
      " [0.33379558 0.33140447 0.33479996]\n",
      " [0.33288879 0.33047428 0.33663693]\n",
      " [0.3334604  0.33096753 0.33557206]\n",
      " [0.32958084 0.32825563 0.34216353]\n",
      " [0.33426149 0.33243934 0.33329918]\n",
      " [0.32954603 0.32815732 0.34229665]\n",
      " [0.33071638 0.32868803 0.3405956 ]\n",
      " [0.32978098 0.32816177 0.34205724]\n",
      " [0.33312252 0.33048822 0.33638926]\n",
      " [0.32865566 0.32785144 0.3434929 ]\n",
      " [0.33123754 0.32890677 0.33985568]\n",
      " [0.33011568 0.32817467 0.34170965]\n",
      " [0.33000097 0.32807915 0.34191988]]\n"
     ]
    }
   ],
   "source": [
    "# Experience everything we have taken so far\n",
    "\n",
    "X, y = spiral_data( samples=(100) , classes=3)# 100 samples represented by 2 features classify on 3 classes\n",
    "\n",
    "layer1 = Layer_Dense( 2 , 3)\n",
    "activation1 =  Activation_ReLU()\n",
    "\n",
    "layer2 = Layer_Dense(3, 3) # output layer \n",
    "activation2 = Activation_Softmax() \n",
    "\n",
    "layer1.forward(X)\n",
    "activation1. forward (layer1.output)\n",
    "\n",
    "layer2. forward(activation1.output)\n",
    "activation2. forward(layer2.output)\n",
    "\n",
    "print (activation2.output) # Show me the results just for the first 50 samples "
   ]
  },
  {
   "cell_type": "code",
   "execution_count": 70,
   "id": "463086ba",
   "metadata": {},
   "outputs": [
    {
     "data": {
      "text/plain": [
       "array([0, 0, 0, 0, 0, 0, 0, 0, 0, 0, 0, 0, 0, 0, 0, 0, 0, 0, 0, 0, 0, 0,\n",
       "       0, 0, 0, 0, 0, 0, 0, 0, 0, 0, 0, 0, 0, 0, 0, 0, 0, 0, 0, 0, 0, 0,\n",
       "       0, 0, 0, 0, 0, 0, 0, 0, 0, 0, 0, 0, 0, 0, 0, 0, 0, 0, 0, 0, 0, 0,\n",
       "       0, 0, 0, 0, 0, 0, 0, 0, 0, 0, 0, 0, 0, 0, 0, 0, 0, 0, 0, 0, 0, 0,\n",
       "       0, 0, 0, 0, 0, 0, 0, 0, 0, 0, 0, 0, 1, 1, 1, 1, 1, 1, 1, 1, 1, 1,\n",
       "       1, 1, 1, 1, 1, 1, 1, 1, 1, 1, 1, 1, 1, 1, 1, 1, 1, 1, 1, 1, 1, 1,\n",
       "       1, 1, 1, 1, 1, 1, 1, 1, 1, 1, 1, 1, 1, 1, 1, 1, 1, 1, 1, 1, 1, 1,\n",
       "       1, 1, 1, 1, 1, 1, 1, 1, 1, 1, 1, 1, 1, 1, 1, 1, 1, 1, 1, 1, 1, 1,\n",
       "       1, 1, 1, 1, 1, 1, 1, 1, 1, 1, 1, 1, 1, 1, 1, 1, 1, 1, 1, 1, 1, 1,\n",
       "       1, 1, 2, 2, 2, 2, 2, 2, 2, 2, 2, 2, 2, 2, 2, 2, 2, 2, 2, 2, 2, 2,\n",
       "       2, 2, 2, 2, 2, 2, 2, 2, 2, 2, 2, 2, 2, 2, 2, 2, 2, 2, 2, 2, 2, 2,\n",
       "       2, 2, 2, 2, 2, 2, 2, 2, 2, 2, 2, 2, 2, 2, 2, 2, 2, 2, 2, 2, 2, 2,\n",
       "       2, 2, 2, 2, 2, 2, 2, 2, 2, 2, 2, 2, 2, 2, 2, 2, 2, 2, 2, 2, 2, 2,\n",
       "       2, 2, 2, 2, 2, 2, 2, 2, 2, 2, 2, 2, 2, 2], dtype=uint8)"
      ]
     },
     "execution_count": 70,
     "metadata": {},
     "output_type": "execute_result"
    }
   ],
   "source": [
    "y"
   ]
  },
  {
   "cell_type": "markdown",
   "id": "5aa4e1f1",
   "metadata": {},
   "source": [
    "   # Loss Function - Cross Entropy  For Classifcation "
   ]
  },
  {
   "cell_type": "code",
   "execution_count": 71,
   "id": "d42a4514",
   "metadata": {},
   "outputs": [],
   "source": [
    "# One hot encoding is a vector of zeros and one, the length of it = the number of classes we have. \n",
    "# log without specific basic = mean that the basic is e so (len) natural log \n",
    "\n",
    "# e ** x = b === len(b) = x e rias to what to get b \n"
   ]
  },
  {
   "cell_type": "code",
   "execution_count": 72,
   "id": "cc24423d",
   "metadata": {},
   "outputs": [],
   "source": [
    "softmax_output = [0.7,0.2,0.1]\n",
    "target_output = [1, 0,0]"
   ]
  },
  {
   "cell_type": "code",
   "execution_count": 73,
   "id": "edc9fdfa",
   "metadata": {},
   "outputs": [],
   "source": [
    "loss = -(math.log(softmax_output[0])*target_output[0]+\n",
    "        math.log(softmax_output[1])*target_output[1]+\n",
    "        math.log(softmax_output[2])*target_output[2])\n",
    "# use negative sign cauze the probability is between [0,1] => log[0-1] is negative . -(-) => + "
   ]
  },
  {
   "cell_type": "code",
   "execution_count": 74,
   "id": "c42cf6c4",
   "metadata": {},
   "outputs": [
    {
     "data": {
      "text/plain": [
       "0.35667494393873245"
      ]
     },
     "execution_count": 74,
     "metadata": {},
     "output_type": "execute_result"
    }
   ],
   "source": [
    "loss"
   ]
  },
  {
   "cell_type": "code",
   "execution_count": 75,
   "id": "b656cd98",
   "metadata": {},
   "outputs": [],
   "source": [
    "# to smplify formula \n",
    "loss2 = -math.log(softmax_output[0])"
   ]
  },
  {
   "cell_type": "code",
   "execution_count": 76,
   "id": "6a5d16f3",
   "metadata": {},
   "outputs": [
    {
     "data": {
      "text/plain": [
       "0.35667494393873245"
      ]
     },
     "execution_count": 76,
     "metadata": {},
     "output_type": "execute_result"
    }
   ],
   "source": [
    "loss2 # same"
   ]
  },
  {
   "cell_type": "code",
   "execution_count": 77,
   "id": "0c4785e4",
   "metadata": {},
   "outputs": [],
   "source": [
    "class Loss: #a base class for different types of loss functions\n",
    "    def calculate(self, output, y):\n",
    "        sample_losses = self.forward(output, y) #computing the loss for each individual sample in the batch.\n",
    "        data_loss = np.mean(sample_losses)\n",
    "        return data_loss\n",
    "    \n",
    "class Loss_CategoricalCrossentropy(Loss): #subclass\n",
    "    def forward(self, y_pred, y_true):\n",
    "        y_pred_clipped = np.clip(y_pred, 1e-7, 1 - 1e-7) # to avoid log(0) issue \n",
    "        samples = len(y_pred)\n",
    "        sample_losses = np.zeros(samples)\n",
    "        # the true_y is not one hot encoded\n",
    "        for i in range(samples):\n",
    "            probabilities = y_pred_clipped[i]\n",
    "            true_label = y_true[i]\n",
    "            loss = -np.log(probabilities[true_label]) # id the prob/confidence of target class is small then the -log => (loss) is large\n",
    "            sample_losses[i] = loss\n",
    "        return sample_losses"
   ]
  },
  {
   "cell_type": "code",
   "execution_count": 78,
   "id": "af432cba",
   "metadata": {},
   "outputs": [],
   "source": [
    "y_pred_clipped = np.clip(activation2.output, 1e-7, 1 - 1e-7)"
   ]
  },
  {
   "cell_type": "code",
   "execution_count": 79,
   "id": "48f06ff1",
   "metadata": {},
   "outputs": [
    {
     "data": {
      "text/plain": [
       "300"
      ]
     },
     "execution_count": 79,
     "metadata": {},
     "output_type": "execute_result"
    }
   ],
   "source": [
    "len(y_pred_clipped[np.arange(len(activation2.output)), y])"
   ]
  },
  {
   "cell_type": "code",
   "execution_count": 80,
   "id": "446439ae",
   "metadata": {},
   "outputs": [],
   "source": [
    "entopy_loss_function = Loss_CategoricalCrossentropy ()\n",
    "loss = entopy_loss_function.calculate(activation2.output, y)"
   ]
  },
  {
   "cell_type": "code",
   "execution_count": 81,
   "id": "7acad0f3",
   "metadata": {},
   "outputs": [
    {
     "data": {
      "text/plain": [
       "1.0984928620772818"
      ]
     },
     "execution_count": 81,
     "metadata": {},
     "output_type": "execute_result"
    }
   ],
   "source": [
    "loss"
   ]
  }
 ],
 "metadata": {
  "kernelspec": {
   "display_name": "Python 3 (ipykernel)",
   "language": "python",
   "name": "python3"
  },
  "language_info": {
   "codemirror_mode": {
    "name": "ipython",
    "version": 3
   },
   "file_extension": ".py",
   "mimetype": "text/x-python",
   "name": "python",
   "nbconvert_exporter": "python",
   "pygments_lexer": "ipython3",
   "version": "3.12.4"
  }
 },
 "nbformat": 4,
 "nbformat_minor": 5
}
