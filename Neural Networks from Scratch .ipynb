{
 "cells": [
  {
   "cell_type": "markdown",
   "id": "545321ed",
   "metadata": {},
   "source": [
    "# Neural Network From Scratch "
   ]
  },
  {
   "cell_type": "code",
   "execution_count": 1,
   "id": "671edac8-7dbd-4008-bdf6-62683e608aaf",
   "metadata": {},
   "outputs": [
    {
     "data": {
      "text/plain": [
       "'\\nThis code is a tutorial on how to build a neural network from scratch in an easy way. \\nIt covers building layers, and implementing loss functions and includes a small explanation of each piece of code. \\nThe tutorial also tests the neural network with spiral data.\\nI wrote down everything I learned from every cell in it.\\n'"
      ]
     },
     "execution_count": 1,
     "metadata": {},
     "output_type": "execute_result"
    }
   ],
   "source": [
    "\"\"\"\n",
    "This code is a tutorial on how to build a neural network from scratch in an easy way. \n",
    "It covers building layers, and implementing loss functions and includes a small explanation of each piece of code. \n",
    "The tutorial also tests the neural network with spiral data.\n",
    "I wrote down everything I learned from every cell in it.\n",
    "\"\"\""
   ]
  },
  {
   "cell_type": "code",
   "execution_count": 1,
   "id": "e3af7094",
   "metadata": {},
   "outputs": [],
   "source": [
    "import numpy as np \n",
    "import nnfs\n",
    "from nnfs.datasets import spiral_data \n",
    "import matplotlib.pyplot as plt\n",
    "import math "
   ]
  },
  {
   "cell_type": "code",
   "execution_count": 2,
   "id": "97125a0c",
   "metadata": {},
   "outputs": [
    {
     "name": "stdout",
     "output_type": "stream",
     "text": [
      "2.3\n"
     ]
    }
   ],
   "source": [
    "inputs = [1,2,3] # inputs for neurons in input layers  \n",
    "weights = [0.2,0.8,-0.5 ] # each input has a weight \n",
    "bias  = 2 \n",
    "\n",
    "outputs = inputs[0] * weights [0] +  inputs[1] * weights[1] + inputs[2] * weights [2] + bias  # this output of just one nuorn \n",
    "print(outputs)"
   ]
  },
  {
   "cell_type": "code",
   "execution_count": 7,
   "id": "2b5cc974",
   "metadata": {},
   "outputs": [
    {
     "name": "stdout",
     "output_type": "stream",
     "text": [
      "[4.8, 1.21, 2.385]\n"
     ]
    }
   ],
   "source": [
    "inputs = [1, 2, 3,2.5]  # inputs for \n",
    "\n",
    "weights1 = [0.2,0.8 ,-0.5,1.0] # all weights for neuorn 1 \n",
    "weights2 = [0.5,-0.91,0.26,-0.5] # all weights for neuorn 2 \n",
    "weights3 = [-0.26,-0.27,0.17,0.87] # all weights for neuorn 3 \n",
    "\n",
    "bias1 = 2\n",
    "bias2 = 3\n",
    "bias3 = 0.5\n",
    "\n",
    "output_from_layer_1 = [inputs[0] * weights1[0] +  inputs[1] * weights1[1] + inputs[2] * weights1 [2] +  inputs[3] * weights1 [3] + bias1 , # this output of just one nuorn from layer1 \n",
    "         inputs[0] * weights2[0] +  inputs[1] * weights2[1] + inputs[2] * weights2[2] + inputs[3] * weights2 [3] +  bias2,  \n",
    "         inputs[0] * weights3[0] +  inputs[1] * weights3[1] + inputs[2] * weights3[2] +  inputs[3] * weights3[3]  +bias3]\n",
    "\n",
    "# output_from_layer_1 => each output from each neuron in layer 1 \n",
    "# Each neuron has a unique set of weights and its bais\n",
    "print(output_from_layer_1)"
   ]
  },
  {
   "cell_type": "code",
   "execution_count": 8,
   "id": "0bf3e8c0",
   "metadata": {},
   "outputs": [],
   "source": [
    "# so far , we dont use any activation function  "
   ]
  },
  {
   "cell_type": "code",
   "execution_count": 12,
   "id": "ccea11a8",
   "metadata": {
    "scrolled": true
   },
   "outputs": [
    {
     "name": "stdout",
     "output_type": "stream",
     "text": [
      "([0.2, 0.8, -0.5, 1.0], 2)\n",
      "([0.5, -0.91, 0.26, -0.5], 3)\n",
      "([-0.26, -0.27, 0.17, 0.87], 0.5)\n"
     ]
    }
   ],
   "source": [
    "# Make the code more dynamic  \n",
    "inputs = [1,2,3,2.5] # neuorn for inputs \n",
    "weights = [weights1 , weights2 , weights3]\n",
    "biases = [bias1  , bias2 , bias3 ]\n",
    "\n",
    "zipped_data = zip(weights, biases) #using for combin each two corresponding elements (elements-wise) in the two lists  \n",
    "\n",
    "for pair in zipped_data:\n",
    "    print(pair)\n"
   ]
  },
  {
   "cell_type": "code",
   "execution_count": 18,
   "id": "94d88a74",
   "metadata": {},
   "outputs": [],
   "source": [
    "layer_otputs = []\n",
    "for neuron_weights , neuron_bais in zip(weights, biases): \n",
    "    neuorn_output = 0 # for each neuron in the layer \n",
    "    for n_inputs , weight in  zip(inputs, neuron_weights) :  \n",
    "        neuorn_output =neuorn_output + (n_inputs * weight)\n",
    "    neuorn_output = neuorn_output + neuron_bais\n",
    "    layer_otputs.append(neuorn_output)"
   ]
  },
  {
   "cell_type": "code",
   "execution_count": 20,
   "id": "f8b64760",
   "metadata": {},
   "outputs": [
    {
     "data": {
      "text/plain": [
       "[4.8, 1.21, 2.385]"
      ]
     },
     "execution_count": 20,
     "metadata": {},
     "output_type": "execute_result"
    }
   ],
   "source": [
    "layer_otputs # outputs of three neurons in the layer"
   ]
  },
  {
   "cell_type": "code",
   "execution_count": 21,
   "id": "a739e05d",
   "metadata": {},
   "outputs": [
    {
     "data": {
      "text/plain": [
       "\"\\nwhen the two Matrices have the same shape, no matter which one comes first BUT when they are different (have different shapes) ,\\nit's important to take into account which one should be first \\n\\nhere the Multiplication is not commutative. >>> \\nthe number of cols in the first matrix = the number of rows in the second one \\n\\n\""
      ]
     },
     "execution_count": 21,
     "metadata": {},
     "output_type": "execute_result"
    }
   ],
   "source": [
    "\"\"\"\n",
    "when the two Matrices have the same shape, no matter which one comes first BUT when they are different (have different shapes) ,\n",
    "it's important to take into account which one should be first \n",
    "\n",
    "here the Multiplication is not commutative. >>> \n",
    "the number of cols in the first matrix = the number of rows in the second one \n",
    "\n",
    "\"\"\""
   ]
  },
  {
   "cell_type": "markdown",
   "id": "58c4fcd1-0073-46a9-83bb-cc63e68a9099",
   "metadata": {},
   "source": [
    "## So far, we have only dealt with one layer and one sample and not all the inputs"
   ]
  },
  {
   "cell_type": "code",
   "execution_count": 22,
   "id": "d72fb333",
   "metadata": {},
   "outputs": [],
   "source": [
    "# use batch of samples "
   ]
  },
  {
   "cell_type": "code",
   "execution_count": 26,
   "id": "c04b0045",
   "metadata": {},
   "outputs": [
    {
     "data": {
      "text/plain": [
       "\"\\nthe weights and biases relate to unique neurons , not with inputs => so they don't change with each sample \\n\\n\""
      ]
     },
     "execution_count": 26,
     "metadata": {},
     "output_type": "execute_result"
    }
   ],
   "source": [
    "inputs = [[1, 2,3,2.5], [2.0, 5.0,-1.0, 2.0], [-1.5, 2.7,3.3,-0.8]]    # batch of 3 samples\n",
    "\n",
    "weights = [weights1 , weights2 , weights3]\n",
    "\n",
    "biases = [bias1 , bias2 , bias3 ]  \n",
    "          \n",
    "\"\"\"\n",
    "the weights and biases relate to unique neurons , not with inputs => so they don't change with each sample \n",
    "\n",
    "\"\"\""
   ]
  },
  {
   "cell_type": "code",
   "execution_count": 27,
   "id": "d5672dbf",
   "metadata": {},
   "outputs": [],
   "source": [
    "# using Transpose "
   ]
  },
  {
   "cell_type": "code",
   "execution_count": 28,
   "id": "68ce31c7",
   "metadata": {},
   "outputs": [],
   "source": [
    "output = np.dot(inputs, np.array(weights).T) + biases # convert the weight list to the np array, to use T (transpose it )"
   ]
  },
  {
   "cell_type": "code",
   "execution_count": 29,
   "id": "affddbc1",
   "metadata": {},
   "outputs": [
    {
     "data": {
      "text/plain": [
       "array([[ 4.8  ,  1.21 ,  2.385],\n",
       "       [ 8.9  , -1.81 ,  0.2  ],\n",
       "       [ 1.41 ,  1.051,  0.026]])"
      ]
     },
     "execution_count": 29,
     "metadata": {},
     "output_type": "execute_result"
    }
   ],
   "source": [
    "output # each row represant the outputs from 3 neuorn when i input >>>"
   ]
  },
  {
   "cell_type": "code",
   "execution_count": 27,
   "id": "14b0245d",
   "metadata": {},
   "outputs": [
    {
     "data": {
      "text/plain": [
       "'\\n\\n[[ 2.8  , -1.79 ,  1.885],\\n[ 6.9  , -4.81 , -0.3  ],  + [2, 3, 0.5]   => each row in the first with the only row in the second \\n[-0.59 , -1.949, -0.474]]\\n\\n\\nthe output of neuorn 1 (2.8) + the bais1 (2) .. etc \\n\\n\\nNOTE \\nthe size of weights = the many of neuorns we have .. \\n\\n\\n'"
      ]
     },
     "execution_count": 27,
     "metadata": {},
     "output_type": "execute_result"
    }
   ],
   "source": [
    "\"\"\"\n",
    "[[ 2.8  , -1.79 ,  1.885],\n",
    "[ 6.9, -4.81, -0.3  ],  + [2, 3, 0.5]   => each row in the first with the only row in the second \n",
    "[-0.59, -1.949, -0.474]]\n",
    "\n",
    "the output of neuron 1 (2.8) + the bais1 (2) .. etc \n",
    "\n",
    "NOTE \n",
    "the size of weights = the many neurons we have. \n",
    "\"\"\""
   ]
  },
  {
   "cell_type": "code",
   "execution_count": 30,
   "id": "73e89859",
   "metadata": {},
   "outputs": [],
   "source": [
    "# Now we wanna  add another layer => This means we want another set of biases and weights "
   ]
  },
  {
   "cell_type": "code",
   "execution_count": 31,
   "id": "3e1e1f49",
   "metadata": {},
   "outputs": [],
   "source": [
    "weights2 = [[0.1, -0.14, 0.5], [ -0.5, 0.12, -0.33 ], [-0.44, 0.73, -0.13]] # This means the second layer has 3 neurons \n",
    "\n",
    "# Just three weights in each list because the first layers (as inputs for the second layer  ) have just three neurons. \n",
    "\n",
    "baises2 = [-1 , 2 , -0.5 ]  "
   ]
  },
  {
   "cell_type": "code",
   "execution_count": 32,
   "id": "3aa6368b",
   "metadata": {},
   "outputs": [],
   "source": [
    "# the inputs are the outputs of layer one "
   ]
  },
  {
   "cell_type": "code",
   "execution_count": 33,
   "id": "260ddecb",
   "metadata": {},
   "outputs": [],
   "source": [
    "output_from_layer2 =np.dot(output , np.array(weights2)) + baises2"
   ]
  },
  {
   "cell_type": "code",
   "execution_count": 34,
   "id": "8a2be2a8",
   "metadata": {},
   "outputs": [
    {
     "data": {
      "text/plain": [
       "array([[-2.1744 ,  3.21425,  1.19065],\n",
       "       [ 0.707  ,  0.6828 ,  4.5213 ],\n",
       "       [-1.39594,  1.9477 , -0.14521]])"
      ]
     },
     "execution_count": 34,
     "metadata": {},
     "output_type": "execute_result"
    }
   ],
   "source": [
    "output_from_layer2"
   ]
  },
  {
   "cell_type": "code",
   "execution_count": 35,
   "id": "866749a2",
   "metadata": {},
   "outputs": [],
   "source": [
    "# make the code more dynamic for many layers # using OOP\n",
    "# Since each layer has it's own parameters => inputs , weights, biases => so oop is more efficient to use "
   ]
  },
  {
   "cell_type": "code",
   "execution_count": 36,
   "id": "067d1c25",
   "metadata": {},
   "outputs": [],
   "source": [
    "\"\"\"\n",
    "#pass >> indicates that the constructor does nothing at the moment \n",
    "This line defines the constructor method __init__. \n",
    "The constructor is called when an instance of the class is created.\n",
    "\"\"\"\n",
    "class Layer_Dense: \n",
    "    # Constructor OR initializer => mainly used to initialize the object's attributes \n",
    "    # automatically called when an instance (object) of the class is created. \n",
    "    # using self to distinguish between instance variables and local variables within the method\n",
    "    def __init__(self , n_inputs , n_neuorns) : \n",
    "        # when u want to create a layer u want to define these parameters. \n",
    "        # instance variables => weights and biases \n",
    "        self.weights = 0.10 * np.random.randn( n_inputs , n_neuorns) # shape of weight = (# of inputs , # of neuorns)\n",
    "        # to make the weights less than 1 => normalization\n",
    "        self.baises = np.zeros((1 , n_neuorns)) # shape of baises = ( 1 , # neuorns ) \n",
    "        # np. zeros expect a tuple, unlike np. random.randn \n",
    "    def forward(self , n_inputs) :  # function prototype\n",
    "        self.output = np.dot(n_inputs , self.weights) + self.baises#initialized in the __init__ method"
   ]
  },
  {
   "cell_type": "code",
   "execution_count": 40,
   "id": "a02c867b",
   "metadata": {},
   "outputs": [],
   "source": [
    "# create objects/instances\n",
    "layer1 = Layer_Dense(4, 5) # u should pass the number of inputs and number of neurons in this layer \n",
    "layer2 = Layer_Dense (5 , 3 ) # number of neurons from layer1 (outputs) ==> number of inputs for layer2 "
   ]
  },
  {
   "cell_type": "code",
   "execution_count": 41,
   "id": "1514f06b",
   "metadata": {},
   "outputs": [],
   "source": [
    "layer1.forward(inputs)"
   ]
  },
  {
   "cell_type": "code",
   "execution_count": 42,
   "id": "7448e51c",
   "metadata": {},
   "outputs": [
    {
     "data": {
      "text/plain": [
       "array([[ 0.05768507,  0.06053932, -0.07513057, -0.07193043,  0.10828244],\n",
       "       [ 0.23752257, -0.0097396 , -0.02762825,  0.11423195,  0.03116756],\n",
       "       [ 0.08238662, -0.13858659,  0.15281086,  0.01168776, -0.10522776],\n",
       "       [ 0.07439554,  0.0660348 ,  0.00512535, -0.0393211 ,  0.04110632]])"
      ]
     },
     "execution_count": 42,
     "metadata": {},
     "output_type": "execute_result"
    }
   ],
   "source": [
    "layer1.weights"
   ]
  },
  {
   "cell_type": "code",
   "execution_count": 43,
   "id": "8b6d74fc",
   "metadata": {},
   "outputs": [
    {
     "data": {
      "text/plain": [
       "array([[0., 0., 0., 0., 0.]])"
      ]
     },
     "execution_count": 43,
     "metadata": {},
     "output_type": "execute_result"
    }
   ],
   "source": [
    "layer1.baises"
   ]
  },
  {
   "cell_type": "code",
   "execution_count": 44,
   "id": "1c4cdc79",
   "metadata": {},
   "outputs": [
    {
     "data": {
      "text/plain": [
       "array([[ 0.96587893, -0.20961263,  0.34085886,  0.093294  , -0.04229992],\n",
       "       [ 1.36938743,  0.34303684, -0.43096257,  0.33696892,  0.5598431 ],\n",
       "       [ 0.76714274, -0.62726948,  0.53827514,  0.48634839, -0.45840792]])"
      ]
     },
     "execution_count": 44,
     "metadata": {},
     "output_type": "execute_result"
    }
   ],
   "source": [
    "layer1.output"
   ]
  },
  {
   "cell_type": "code",
   "execution_count": 45,
   "id": "6ee656dc",
   "metadata": {},
   "outputs": [],
   "source": [
    "layer2.forward(layer1.output)"
   ]
  },
  {
   "cell_type": "code",
   "execution_count": 46,
   "id": "fe2af322",
   "metadata": {},
   "outputs": [
    {
     "data": {
      "text/plain": [
       "array([[-0.13363941,  0.14229612, -0.08624611],\n",
       "       [-0.22638274,  0.38577645,  0.02239111],\n",
       "       [ 0.00912732,  0.08535228, -0.12121256]])"
      ]
     },
     "execution_count": 46,
     "metadata": {},
     "output_type": "execute_result"
    }
   ],
   "source": [
    "layer2.output"
   ]
  },
  {
   "cell_type": "markdown",
   "id": "64b46ecb-c8d9-4e6b-9bdf-11dc61d81b1b",
   "metadata": {},
   "source": [
    "# using activation functions"
   ]
  },
  {
   "cell_type": "code",
   "execution_count": 47,
   "id": "35be8d0d",
   "metadata": {},
   "outputs": [],
   "source": [
    "# simple Python implementation of the ReLU activation function\n",
    "# an explanation of how the Rectified Linear Unit (ReLU) activation function works\n",
    "inputs3 = [2 , 3 ,  0 , -50 , 70 , 90 , -9]\n",
    "output3 = []\n",
    "for i in inputs3 : \n",
    "    if i > 0 : \n",
    "        output3.append(i)      \n",
    "    else : \n",
    "        output3.append(0)"
   ]
  },
  {
   "cell_type": "code",
   "execution_count": 48,
   "id": "b4a3bd4a",
   "metadata": {},
   "outputs": [],
   "source": [
    "#OR\n",
    "for i in inputs3 : \n",
    "    output3.append(max(0,i))"
   ]
  },
  {
   "cell_type": "code",
   "execution_count": 49,
   "id": "7fa1f6c1",
   "metadata": {},
   "outputs": [],
   "source": [
    "class Activation_ReLU : # convention of nameing \n",
    "    def forward(self , inputs) : \n",
    "        self.output = np.maximum(0,inputs)"
   ]
  },
  {
   "cell_type": "code",
   "execution_count": 50,
   "id": "bf849dbb",
   "metadata": {},
   "outputs": [],
   "source": [
    "def spiral_data2(points, classes):\n",
    "    X = np.zeros((points*classes, 2))\n",
    "    y = np.zeros(points*classes, dtype='uint8')\n",
    "    for class_number in range(classes):\n",
    "        ix = range(points*class_number, points*(class_number+1))\n",
    "        r = np.linspace(0.0, 1, points)  # radius\n",
    "        t = np.linspace(class_number*4, (class_number+1)*4, points) + np.random.randn(points)*0.2\n",
    "        X[ix] = np.c_[r*np.sin(t*2.5), r*np.cos(t*2.5)]\n",
    "        y[ix] = class_number\n",
    "    return X, y"
   ]
  },
  {
   "cell_type": "code",
   "execution_count": 51,
   "id": "40555037",
   "metadata": {},
   "outputs": [],
   "source": [
    "X , y = spiral_data2(100 , 3)"
   ]
  },
  {
   "cell_type": "code",
   "execution_count": 52,
   "id": "9bc91a0b",
   "metadata": {},
   "outputs": [
    {
     "data": {
      "image/png": "[encoded data removed]",
      "text/plain": [
       "<Figure size 800x600 with 1 Axes>"
      ]
     },
     "metadata": {},
     "output_type": "display_data"
    }
   ],
   "source": [
    "plt.figure(figsize=(8, 6))\n",
    "for class_number in range(np.max(y) + 1):\n",
    "    plt.scatter(X[y == class_number][:, 0], X[y == class_number][:, 1], label=f'Class {class_number}')\n",
    "plt.title('Spiral Data')\n",
    "plt.xlabel('X1')\n",
    "plt.ylabel('X2')\n",
    "plt.legend()\n",
    "plt.show()"
   ]
  },
  {
   "cell_type": "code",
   "execution_count": 54,
   "id": "7d5afe55",
   "metadata": {
    "scrolled": true
   },
   "outputs": [
    {
     "data": {
      "text/plain": [
       "array([[0.        , 0.        , 0.        , 0.        , 0.        ],\n",
       "       [0.        , 0.0008297 , 0.        , 0.00071691, 0.        ],\n",
       "       [0.        , 0.00101479, 0.        , 0.00076781, 0.00147614],\n",
       "       ...,\n",
       "       [0.07856604, 0.        , 0.09555328, 0.        , 0.        ],\n",
       "       [0.        , 0.07477951, 0.        , 0.06768164, 0.        ],\n",
       "       [0.06641908, 0.        , 0.08856974, 0.        , 0.        ]])"
      ]
     },
     "execution_count": 54,
     "metadata": {},
     "output_type": "execute_result"
    }
   ],
   "source": [
    "# This data has two features so\n",
    "\n",
    "layer1 = Layer_Dense(2 , 5)\n",
    "layer1.forward(X)\n",
    "\n",
    "\n",
    "activation1 = Activation_ReLU() # This activation is for entire layer1 but it's not necessary to use the same activation for all neurons in the same layer \n",
    "activation1.forward(layer1.output)\n",
    "\n",
    "activation1.output"
   ]
  },
  {
   "cell_type": "code",
   "execution_count": 56,
   "id": "c84e77dc",
   "metadata": {},
   "outputs": [],
   "source": [
    "# Softmax activation => which is specifically used for the output layer in classification Task  \n",
    "# gives me a probability distribution. \n",
    "# ReLU => not efficient because if i have (-10, -9) => both give me zero, so can't determine which class is correct  "
   ]
  },
  {
   "cell_type": "markdown",
   "id": "c41ff3fd-553e-4982-89b5-07dc43168364",
   "metadata": {},
   "source": [
    "# Softmax activation"
   ]
  },
  {
   "cell_type": "code",
   "execution_count": 58,
   "id": "febfe9c7",
   "metadata": {},
   "outputs": [],
   "source": [
    "output_layer = [4.8 , 1.21 , 2.385] "
   ]
  },
  {
   "cell_type": "code",
   "execution_count": 60,
   "id": "899e622d-2329-4de7-96b8-db5b5b9d0b15",
   "metadata": {},
   "outputs": [],
   "source": [
    "e = math.e"
   ]
  },
  {
   "cell_type": "code",
   "execution_count": 61,
   "id": "45bf4b86-11aa-4e32-a295-277f97daad24",
   "metadata": {},
   "outputs": [
    {
     "data": {
      "text/plain": [
       "2.718281828459045"
      ]
     },
     "execution_count": 61,
     "metadata": {},
     "output_type": "execute_result"
    }
   ],
   "source": [
    "e"
   ]
  },
  {
   "cell_type": "code",
   "execution_count": 62,
   "id": "1f7af043",
   "metadata": {},
   "outputs": [],
   "source": [
    "exp_values = []\n",
    "\n",
    "for output in output_layer : \n",
    "    exp_values.append(e**output)"
   ]
  },
  {
   "cell_type": "code",
   "execution_count": 63,
   "id": "5ad6f133",
   "metadata": {},
   "outputs": [],
   "source": [
    "norm_base = sum (exp_values)"
   ]
  },
  {
   "cell_type": "code",
   "execution_count": 3,
   "id": "32d30336",
   "metadata": {},
   "outputs": [
    {
     "ename": "NameError",
     "evalue": "name 'exp_values' is not defined",
     "output_type": "error",
     "traceback": [
      "\u001b[1;31m---------------------------------------------------------------------------\u001b[0m",
      "\u001b[1;31mNameError\u001b[0m                                 Traceback (most recent call last)",
      "Cell \u001b[1;32mIn[3], line 2\u001b[0m\n\u001b[0;32m      1\u001b[0m norm_values \u001b[38;5;241m=\u001b[39m [ ]\n\u001b[1;32m----> 2\u001b[0m \u001b[38;5;28;01mfor\u001b[39;00m value \u001b[38;5;129;01min\u001b[39;00m \u001b[43mexp_values\u001b[49m : \n\u001b[0;32m      3\u001b[0m     norm_values\u001b[38;5;241m.\u001b[39mappend(value \u001b[38;5;241m/\u001b[39m norm_base)\n",
      "\u001b[1;31mNameError\u001b[0m: name 'exp_values' is not defined"
     ]
    }
   ],
   "source": [
    "norm_values = [ ]\n",
    "for value in exp_values : \n",
    "    norm_values.append(value / norm_base)"
   ]
  },
  {
   "cell_type": "code",
   "execution_count": 65,
   "id": "91d9c5e1",
   "metadata": {},
   "outputs": [
    {
     "name": "stdout",
     "output_type": "stream",
     "text": [
      "[0.8952826639572619, 0.024708306782099374, 0.0800090292606387]\n"
     ]
    }
   ],
   "source": [
    "print(norm_values) # probability distribution . "
   ]
  },
  {
   "cell_type": "code",
   "execution_count": 66,
   "id": "8c2f253c",
   "metadata": {},
   "outputs": [
    {
     "name": "stdout",
     "output_type": "stream",
     "text": [
      "0.9999999999999999\n"
     ]
    }
   ],
   "source": [
    "print(sum(norm_values)) # sum is a built-in Python function"
   ]
  },
  {
   "cell_type": "code",
   "execution_count": 67,
   "id": "099f2283",
   "metadata": {},
   "outputs": [],
   "source": [
    "## Re-implement Softmax activation¶ using numpy "
   ]
  },
  {
   "cell_type": "code",
   "execution_count": 69,
   "id": "1b92e302",
   "metadata": {},
   "outputs": [],
   "source": [
    "exp_values_np = np.exp(output_layer)\n",
    "norm_values_np = exp_values_np / np.sum(exp_values_np) # normlization "
   ]
  },
  {
   "cell_type": "code",
   "execution_count": 70,
   "id": "2b9329ab",
   "metadata": {},
   "outputs": [
    {
     "data": {
      "text/plain": [
       "array([0.89528266, 0.02470831, 0.08000903])"
      ]
     },
     "execution_count": 70,
     "metadata": {},
     "output_type": "execute_result"
    }
   ],
   "source": [
    "norm_values_np"
   ]
  },
  {
   "cell_type": "code",
   "execution_count": 71,
   "id": "4be13338",
   "metadata": {},
   "outputs": [],
   "source": [
    "# batch of outputs for a batch of inputs \n",
    "output_layer_batchs= [[4.8 , 1.21 , 2.385],\n",
    "                [8.9, 1.81, 0.2],\n",
    "                [1.41,1.051, 0.026]] "
   ]
  },
  {
   "cell_type": "code",
   "execution_count": 72,
   "id": "37f576c7",
   "metadata": {},
   "outputs": [
    {
     "data": {
      "text/plain": [
       "21.792"
      ]
     },
     "execution_count": 72,
     "metadata": {},
     "output_type": "execute_result"
    }
   ],
   "source": [
    "np.sum(output_layer_batchs) # sumation of all values in metrix "
   ]
  },
  {
   "cell_type": "code",
   "execution_count": 73,
   "id": "1eef5bea",
   "metadata": {},
   "outputs": [
    {
     "data": {
      "text/plain": [
       "array([15.11 ,  4.071,  2.611])"
      ]
     },
     "execution_count": 73,
     "metadata": {},
     "output_type": "execute_result"
    }
   ],
   "source": [
    "np.sum( output_layer_batchs , axis = 0) # 0 sum of col"
   ]
  },
  {
   "cell_type": "code",
   "execution_count": 76,
   "id": "15fa6d0f",
   "metadata": {},
   "outputs": [
    {
     "data": {
      "text/plain": [
       "array([ 8.395, 10.91 ,  2.487])"
      ]
     },
     "execution_count": 76,
     "metadata": {},
     "output_type": "execute_result"
    }
   ],
   "source": [
    "np.sum( output_layer_batchs, axis = 1) # sum of the rows and this is what we need, each row for a specific sample "
   ]
  },
  {
   "cell_type": "code",
   "execution_count": 78,
   "id": "fb002264",
   "metadata": {},
   "outputs": [
    {
     "data": {
      "text/plain": [
       "array([[1.21510418e+02, 3.35348465e+00, 1.08590627e+01],\n",
       "       [7.33197354e+03, 6.11044743e+00, 1.22140276e+00],\n",
       "       [4.09595540e+00, 2.86051020e+00, 1.02634095e+00]])"
      ]
     },
     "execution_count": 78,
     "metadata": {},
     "output_type": "execute_result"
    }
   ],
   "source": [
    "np.exp(output_layer_batchs)"
   ]
  },
  {
   "cell_type": "code",
   "execution_count": 79,
   "id": "eb7d5dd0",
   "metadata": {},
   "outputs": [
    {
     "data": {
      "text/plain": [
       "array([ 135.72296484, 7339.30538935,    7.98280655])"
      ]
     },
     "execution_count": 79,
     "metadata": {},
     "output_type": "execute_result"
    }
   ],
   "source": [
    "np.sum( np.exp(output_layer_batchs) , axis = 1)"
   ]
  },
  {
   "cell_type": "code",
   "execution_count": 80,
   "id": "611a570a",
   "metadata": {},
   "outputs": [],
   "source": [
    "norm_values_b = np.exp(output_layer_batchs) / np.sum(output_layer_batchs , axis = 1 , keepdims = True) "
   ]
  },
  {
   "cell_type": "code",
   "execution_count": 81,
   "id": "8dc16460",
   "metadata": {},
   "outputs": [
    {
     "data": {
      "text/plain": [
       "array([[1.44741415e+01, 3.99462138e-01, 1.29351551e+00],\n",
       "       [6.72041571e+02, 5.60077675e-01, 1.11952590e-01],\n",
       "       [1.64694628e+00, 1.15018504e+00, 4.12682327e-01]])"
      ]
     },
     "execution_count": 81,
     "metadata": {},
     "output_type": "execute_result"
    }
   ],
   "source": [
    "norm_values_b"
   ]
  },
  {
   "cell_type": "code",
   "execution_count": 82,
   "id": "7749948e-75b1-443b-a9f0-5ca77f1b8f7a",
   "metadata": {},
   "outputs": [],
   "source": [
    "# using OOP"
   ]
  },
  {
   "cell_type": "code",
   "execution_count": 83,
   "id": "144af229",
   "metadata": {},
   "outputs": [],
   "source": [
    "class Activation_Softmax : \n",
    "    def forward(self , inputs):\n",
    "        exp_values = np.exp(inputs - np.max (inputs , axis = 1 , keepdims = True)) # \"max trick\"\n",
    "        probabilities  = exp_values / np.sum(exp_values , axis = 1 , keepdims =True ) # The first row is divided by the first element \n",
    "        self.output = probabilities"
   ]
  },
  {
   "cell_type": "code",
   "execution_count": 85,
   "id": "6e452c9e",
   "metadata": {},
   "outputs": [],
   "source": [
    "exp_values =np.max(output_layer_batchs, axis=1, keepdims=True) # give me the max value in each row "
   ]
  },
  {
   "cell_type": "code",
   "execution_count": 86,
   "id": "6740d05c",
   "metadata": {},
   "outputs": [
    {
     "name": "stdout",
     "output_type": "stream",
     "text": [
      "[[4.8 ]\n",
      " [8.9 ]\n",
      " [1.41]]\n"
     ]
    }
   ],
   "source": [
    "print(exp_values)"
   ]
  },
  {
   "cell_type": "code",
   "execution_count": 88,
   "id": "b625704e",
   "metadata": {},
   "outputs": [],
   "source": [
    "exp_values = output_layer_batchs - np.max(output_layer_batchs , axis = 1 , keepdims = True)"
   ]
  },
  {
   "cell_type": "code",
   "execution_count": 89,
   "id": "932411b0",
   "metadata": {},
   "outputs": [
    {
     "data": {
      "text/plain": [
       "array([[ 0.   , -3.59 , -2.415],\n",
       "       [ 0.   , -7.09 , -8.7  ],\n",
       "       [ 0.   , -0.359, -1.384]])"
      ]
     },
     "execution_count": 89,
     "metadata": {},
     "output_type": "execute_result"
    }
   ],
   "source": [
    "exp_values"
   ]
  },
  {
   "cell_type": "code",
   "execution_count": 90,
   "id": "a4250ac8",
   "metadata": {},
   "outputs": [],
   "source": [
    "inputs = np.array([1000, 1001, 1002])"
   ]
  },
  {
   "cell_type": "code",
   "execution_count": 91,
   "id": "414fbeb0",
   "metadata": {},
   "outputs": [
    {
     "name": "stdout",
     "output_type": "stream",
     "text": [
      "[nan nan nan]\n"
     ]
    },
    {
     "name": "stderr",
     "output_type": "stream",
     "text": [
      "C:\\Users\\IMOE001\\AppData\\Local\\Temp\\ipykernel_21880\\2967752028.py:1: RuntimeWarning: overflow encountered in exp\n",
      "  probabilities = np.exp(inputs) / np.sum(np.exp(inputs))\n",
      "C:\\Users\\IMOE001\\AppData\\Local\\Temp\\ipykernel_21880\\2967752028.py:1: RuntimeWarning: invalid value encountered in divide\n",
      "  probabilities = np.exp(inputs) / np.sum(np.exp(inputs))\n"
     ]
    }
   ],
   "source": [
    "probabilities = np.exp(inputs) / np.sum(np.exp(inputs))\n",
    "print(probabilities)"
   ]
  },
  {
   "cell_type": "code",
   "execution_count": 2,
   "id": "17735762",
   "metadata": {},
   "outputs": [
    {
     "data": {
      "text/plain": [
       "'\\nThe above case called Numerical Stability  =>  Exponentiating large numbers can lead to numerical overflow, w\\nhere the resulting values are too large to be represented accurately by the floating-point format used in computers\\nso to solve this problem u can use \"max trick\" before Calculating exponentials\\n'"
      ]
     },
     "execution_count": 2,
     "metadata": {},
     "output_type": "execute_result"
    }
   ],
   "source": [
    "\"\"\"\n",
    "The above case called Numerical Stability  =>  Exponentiating large numbers can lead to numerical overflow, w\n",
    "here the resulting values are too large to be represented accurately by the floating-point format used in computers\n",
    "so to solve this problem u can use \"max trick\" before Calculating exponentials\n",
    "\"\"\""
   ]
  },
  {
   "cell_type": "markdown",
   "id": "5b4b311e-b416-4767-8e69-4666aeae0164",
   "metadata": {},
   "source": [
    "# Testing Phase"
   ]
  },
  {
   "cell_type": "code",
   "execution_count": 92,
   "id": "59e8f6a7",
   "metadata": {},
   "outputs": [
    {
     "name": "stdout",
     "output_type": "stream",
     "text": [
      "[[0.33333333 0.33333333 0.33333333]\n",
      " [0.33335127 0.33334172 0.333307  ]\n",
      " [0.33338435 0.3333522  0.33326345]\n",
      " [0.3333791  0.33336815 0.33325275]\n",
      " [0.3332563  0.33351294 0.33323076]\n",
      " [0.33326387 0.33353688 0.33319925]\n",
      " [0.33318564 0.33366743 0.33314693]\n",
      " [0.33349063 0.33339147 0.3331179 ]\n",
      " [0.3334073  0.33348097 0.33311173]\n",
      " [0.33313794 0.33377533 0.33308674]\n",
      " [0.33322117 0.33371806 0.33306077]\n",
      " [0.33310656 0.33384628 0.33304715]\n",
      " [0.33362169 0.33343986 0.33293845]\n",
      " [0.33305399 0.33396519 0.33298083]\n",
      " [0.33296513 0.33416613 0.33286875]\n",
      " [0.33292371 0.33425978 0.33281651]\n",
      " [0.33289959 0.33431432 0.33278609]\n",
      " [0.33293537 0.33423342 0.33283121]\n",
      " [0.33269028 0.33445023 0.33285949]\n",
      " [0.33281993 0.33449442 0.33268565]\n",
      " [0.33278863 0.33456517 0.3326462 ]\n",
      " [0.33284472 0.33443837 0.33271691]\n",
      " [0.33274029 0.33467445 0.33258526]\n",
      " [0.33244395 0.3348016  0.33275445]\n",
      " [0.33246783 0.33482816 0.33270402]\n",
      " [0.33244095 0.33488447 0.33267459]\n",
      " [0.33272618 0.33470635 0.33256747]\n",
      " [0.33181598 0.33531504 0.33286898]\n",
      " [0.33253952 0.33491235 0.33254813]\n",
      " [0.3322502  0.33516325 0.33258655]\n",
      " [0.33189495 0.33524506 0.33285999]\n",
      " [0.33225234 0.3352398  0.33250785]\n",
      " [0.33180388 0.33538216 0.33281395]\n",
      " [0.33143484 0.33581376 0.3327514 ]\n",
      " [0.33143693 0.33581103 0.33275205]\n",
      " [0.33134726 0.33592841 0.33272433]\n",
      " [0.33125016 0.33605555 0.3326943 ]\n",
      " [0.33120923 0.33610914 0.33268163]\n",
      " [0.33184645 0.33586517 0.33228838]\n",
      " [0.33108781 0.33626817 0.33264402]\n",
      " [0.33104464 0.33632471 0.33263065]\n",
      " [0.33148147 0.33620214 0.33231639]\n",
      " [0.33099077 0.33639528 0.33261394]\n",
      " [0.33083556 0.33659866 0.33256578]\n",
      " [0.33232481 0.3357738  0.33190139]\n",
      " [0.33361978 0.33465949 0.33172072]\n",
      " [0.3337101  0.33460457 0.33168533]\n",
      " [0.33140795 0.33651639 0.33207566]\n",
      " [0.33457345 0.33378995 0.3316366 ]\n",
      " [0.33138615 0.33661722 0.33199664]\n",
      " [0.33461304 0.33380446 0.3315825 ]\n",
      " [0.33460714 0.3338023  0.33159056]\n",
      " [0.33454502 0.33377953 0.33167545]\n",
      " [0.33312199 0.33542169 0.33145633]\n",
      " [0.33472706 0.33384623 0.33142671]\n",
      " [0.33475432 0.33385621 0.33138947]\n",
      " [0.33475767 0.33385744 0.33138488]\n",
      " [0.33204423 0.3364822  0.33147357]\n",
      " [0.33475771 0.33385746 0.33138483]\n",
      " [0.33461354 0.33380464 0.33158182]\n",
      " [0.33482714 0.33388287 0.33128999]\n",
      " [0.33394169 0.33440806 0.33165024]\n",
      " [0.33489901 0.33390916 0.33119183]\n",
      " [0.33244965 0.33590638 0.33164397]\n",
      " [0.33495597 0.33392999 0.33111404]\n",
      " [0.33476443 0.33385991 0.33137566]\n",
      " [0.33490555 0.33391155 0.33118289]\n",
      " [0.33266878 0.33583644 0.33149477]\n",
      " [0.33203068 0.3363848  0.33158452]\n",
      " [0.3315768  0.33730255 0.33112065]\n",
      " [0.33312809 0.33550019 0.33137172]\n",
      " [0.33273831 0.33588938 0.3313723 ]\n",
      " [0.33198505 0.3365412  0.33147375]\n",
      " [0.33153763 0.33739095 0.33107142]\n",
      " [0.33477772 0.33386478 0.3313575 ]\n",
      " [0.33134285 0.33783051 0.33082664]\n",
      " [0.33125083 0.33803814 0.33071103]\n",
      " [0.3319505  0.33671927 0.33133024]\n",
      " [0.33125297 0.33803331 0.33071372]\n",
      " [0.33116393 0.33823419 0.33060189]\n",
      " [0.3311442  0.33827869 0.33057711]\n",
      " [0.33139755 0.33770709 0.33089536]\n",
      " [0.33117237 0.33821515 0.33061249]\n",
      " [0.33010427 0.33865494 0.33124079]\n",
      " [0.32984768 0.33881859 0.33133373]\n",
      " [0.33103164 0.33803838 0.33092997]\n",
      " [0.33033105 0.33863446 0.3310345 ]\n",
      " [0.33074372 0.33835123 0.33090504]\n",
      " [0.32881762 0.33924848 0.3319339 ]\n",
      " [0.33012396 0.33888932 0.33098672]\n",
      " [0.33082815 0.33837587 0.33079597]\n",
      " [0.32872041 0.33937639 0.3319032 ]\n",
      " [0.3280306  0.34028479 0.33168461]\n",
      " [0.3291817  0.33946897 0.33134933]\n",
      " [0.32870542 0.33939612 0.33189846]\n",
      " [0.3279988  0.3403267  0.33167451]\n",
      " [0.32773437 0.34067526 0.33159037]\n",
      " [0.32954142 0.33956562 0.33089296]\n",
      " [0.3282689  0.33997084 0.33176026]\n",
      " [0.32886227 0.34027832 0.33085941]\n",
      " [0.33333333 0.33333333 0.33333333]\n",
      " [0.33331396 0.33338598 0.33330006]\n",
      " [0.33321674 0.3334854  0.33329786]\n",
      " [0.33326508 0.33349921 0.33323572]\n",
      " [0.3331709  0.33360293 0.33322617]\n",
      " [0.33304903 0.33370419 0.33324678]\n",
      " [0.33301385 0.3337501  0.33323605]\n",
      " [0.33299587 0.33377416 0.33322997]\n",
      " [0.33353995 0.33340969 0.33305036]\n",
      " [0.33351146 0.33347206 0.33301648]\n",
      " [0.33284757 0.33404808 0.33310434]\n",
      " [0.3330501  0.33396653 0.33298337]\n",
      " [0.33303829 0.33401369 0.33294802]\n",
      " [0.33347304 0.33365906 0.3328679 ]\n",
      " [0.332742   0.33429014 0.33296786]\n",
      " [0.3329486  0.33419576 0.33285565]\n",
      " [0.33302631 0.33417346 0.33280023]\n",
      " [0.33376966 0.33349445 0.33273589]\n",
      " [0.33360802 0.333542   0.33284997]\n",
      " [0.33377925 0.33349798 0.33272277]\n",
      " [0.33377614 0.33349683 0.33272703]\n",
      " [0.33387567 0.33353352 0.33259081]\n",
      " [0.33390218 0.33354328 0.33255453]\n",
      " [0.33343182 0.33405899 0.33250919]\n",
      " [0.33384996 0.33352404 0.332626  ]\n",
      " [0.33294033 0.33438817 0.3326715 ]\n",
      " [0.33389143 0.33368537 0.3324232 ]\n",
      " [0.33353931 0.33387896 0.33258172]\n",
      " [0.33293006 0.33448512 0.33258482]\n",
      " [0.33352376 0.33395248 0.33252376]\n",
      " [0.33347719 0.33403004 0.33249277]\n",
      " [0.33251135 0.33519189 0.33229675]\n",
      " [0.3335779  0.33397943 0.33244267]\n",
      " [0.33354598 0.33404212 0.3324119 ]\n",
      " [0.33260702 0.3349757  0.33241729]\n",
      " [0.33250495 0.33520637 0.33228868]\n",
      " [0.33424964 0.33367111 0.33207925]\n",
      " [0.33240342 0.33543579 0.33216079]\n",
      " [0.33235112 0.33555395 0.33209492]\n",
      " [0.33240856 0.33542417 0.33216726]\n",
      " [0.33198328 0.33576222 0.3322545 ]\n",
      " [0.33225986 0.33576015 0.33198   ]\n",
      " [0.33232226 0.33554065 0.33213709]\n",
      " [0.33207922 0.335789   0.33213178]\n",
      " [0.33216782 0.33596805 0.33186413]\n",
      " [0.33216929 0.33596474 0.33186597]\n",
      " [0.33177869 0.3361286  0.3320927 ]\n",
      " [0.33152357 0.33633238 0.33214406]\n",
      " [0.33205431 0.33622444 0.33172125]\n",
      " [0.33207399 0.33598277 0.33194324]\n",
      " [0.33214387 0.33602215 0.33183398]\n",
      " [0.33081443 0.33662636 0.33255921]\n",
      " [0.33208421 0.3361569  0.33175889]\n",
      " [0.33034544 0.33724129 0.33241327]\n",
      " [0.33132669 0.33673777 0.33193555]\n",
      " [0.33116954 0.33686826 0.3319622 ]\n",
      " [0.33165439 0.33657067 0.33177495]\n",
      " [0.33002111 0.33766687 0.33231202]\n",
      " [0.32995419 0.33775472 0.33229109]\n",
      " [0.33065666 0.33747093 0.33187241]\n",
      " [0.331153   0.33723126 0.33161574]\n",
      " [0.33076733 0.3373246  0.33190806]\n",
      " [0.32978215 0.33798061 0.33223724]\n",
      " [0.32998974 0.33795757 0.33205269]\n",
      " [0.3296219  0.33819109 0.33218701]\n",
      " [0.32963288 0.33817667 0.33219045]\n",
      " [0.33032742 0.33796915 0.33170343]\n",
      " [0.33105362 0.3375866  0.33135979]\n",
      " [0.33199761 0.33693129 0.3310711 ]\n",
      " [0.33080765 0.337829   0.33136336]\n",
      " [0.33280233 0.33632016 0.33087751]\n",
      " [0.33516553 0.33400655 0.33082792]\n",
      " [0.32923271 0.33870255 0.33206474]\n",
      " [0.32916164 0.33879599 0.33204237]\n",
      " [0.3352179  0.33402566 0.33075644]\n",
      " [0.33288693 0.33642286 0.33069021]\n",
      " [0.33256522 0.33674606 0.33068872]\n",
      " [0.33527635 0.33404699 0.33067667]\n",
      " [0.33526779 0.33409144 0.33064077]\n",
      " [0.33534841 0.33407326 0.33057832]\n",
      " [0.33270147 0.33676912 0.33052941]\n",
      " [0.3354051  0.33409393 0.33050097]\n",
      " [0.33502802 0.33451215 0.33045984]\n",
      " [0.33547826 0.33412058 0.33040115]\n",
      " [0.33535017 0.33422515 0.33042468]\n",
      " [0.33548666 0.33412364 0.3303897 ]\n",
      " [0.33523975 0.33403363 0.33072661]\n",
      " [0.33538112 0.33408519 0.33053369]\n",
      " [0.33527464 0.33404636 0.330679  ]\n",
      " [0.33418289 0.33494203 0.33087508]\n",
      " [0.33517995 0.33401181 0.33080823]\n",
      " [0.3311851  0.33818642 0.33062848]\n",
      " [0.33081616 0.33901852 0.33016532]\n",
      " [0.33218702 0.33700074 0.33081225]\n",
      " [0.33140955 0.33768    0.33091045]\n",
      " [0.33553093 0.33413976 0.33032931]\n",
      " [0.33072381 0.33922674 0.33004944]\n",
      " [0.33258136 0.33677066 0.33064798]\n",
      " [0.33232558 0.33702613 0.33064829]\n",
      " [0.33068141 0.33932235 0.32999624]\n",
      " [0.33333333 0.33333333 0.33333333]\n",
      " [0.33330698 0.33339294 0.33330007]\n",
      " [0.33334372 0.33337898 0.33327731]\n",
      " [0.33332274 0.33342796 0.3332493 ]\n",
      " [0.3332332  0.33355986 0.33320694]\n",
      " [0.33319653 0.33364279 0.33316068]\n",
      " [0.33319216 0.33365269 0.33315516]\n",
      " [0.33314186 0.33376644 0.33309169]\n",
      " [0.3331289  0.33379576 0.33307534]\n",
      " [0.33301324 0.33389065 0.33309611]\n",
      " [0.33309503 0.33387236 0.33303261]\n",
      " [0.33305905 0.33395373 0.33298722]\n",
      " [0.33300496 0.33407605 0.33291899]\n",
      " [0.33292151 0.33410171 0.33297678]\n",
      " [0.33292813 0.33412964 0.33294223]\n",
      " [0.33296829 0.33415899 0.33287273]\n",
      " [0.33241315 0.33453442 0.33305244]\n",
      " [0.33253773 0.33444026 0.333022  ]\n",
      " [0.33248227 0.33449789 0.33301985]\n",
      " [0.33242943 0.33468343 0.33288714]\n",
      " [0.33273173 0.33449005 0.33277822]\n",
      " [0.33239663 0.33471417 0.3328892 ]\n",
      " [0.33220958 0.33480042 0.33299   ]\n",
      " [0.33199825 0.33507668 0.33292507]\n",
      " [0.33235816 0.33488832 0.33275352]\n",
      " [0.33235914 0.33499576 0.3326451 ]\n",
      " [0.33182875 0.33529834 0.33287291]\n",
      " [0.33195243 0.33529313 0.33275443]\n",
      " [0.33171912 0.33544175 0.33283913]\n",
      " [0.33181608 0.33531491 0.33286901]\n",
      " [0.33199896 0.3354209  0.33258014]\n",
      " [0.33190246 0.33551663 0.33258092]\n",
      " [0.33273178 0.33500393 0.33226429]\n",
      " [0.33143371 0.33581524 0.33275105]\n",
      " [0.33178953 0.33571566 0.33249481]\n",
      " [0.33183448 0.33573872 0.3324268 ]\n",
      " [0.33425174 0.33367188 0.33207638]\n",
      " [0.33363172 0.33436086 0.33200742]\n",
      " [0.33360473 0.3344239  0.33197137]\n",
      " [0.33336322 0.33469622 0.33194056]\n",
      " [0.33220115 0.3357123  0.33208655]\n",
      " [0.33386297 0.33426702 0.33187001]\n",
      " [0.33441956 0.3337335  0.33184694]\n",
      " [0.3339123  0.33428782 0.33179988]\n",
      " [0.33355472 0.33468835 0.33175693]\n",
      " [0.33448361 0.333757   0.33175939]\n",
      " [0.33451542 0.33376867 0.33171591]\n",
      " [0.33454792 0.33378059 0.33167149]\n",
      " [0.33430841 0.33369269 0.3319989 ]\n",
      " [0.33375193 0.33427423 0.33197385]\n",
      " [0.33462679 0.3338095  0.33156371]\n",
      " [0.3339565  0.33410336 0.33194014]\n",
      " [0.33467851 0.33382845 0.33149304]\n",
      " [0.33274386 0.33536855 0.3318876 ]\n",
      " [0.33337867 0.33480561 0.33181572]\n",
      " [0.33398171 0.33419051 0.33182778]\n",
      " [0.33225644 0.33584887 0.33189469]\n",
      " [0.33457468 0.3337904  0.33163492]\n",
      " [0.33200622 0.33633304 0.33166074]\n",
      " [0.33249177 0.33575438 0.33175385]\n",
      " [0.33213533 0.33606149 0.33180318]\n",
      " [0.33183707 0.33671501 0.33144793]\n",
      " [0.33256265 0.33578322 0.33165413]\n",
      " [0.33160411 0.33724091 0.33115498]\n",
      " [0.3317747  0.33685583 0.33136948]\n",
      " [0.3316091  0.33722963 0.33116126]\n",
      " [0.33161976 0.33720558 0.33117466]\n",
      " [0.3314971  0.33748244 0.33102047]\n",
      " [0.33156219 0.33733552 0.33110229]\n",
      " [0.33144208 0.33760659 0.33095133]\n",
      " [0.33155705 0.33734713 0.33109582]\n",
      " [0.33170712 0.33700837 0.3312845 ]\n",
      " [0.33072779 0.33783137 0.33144083]\n",
      " [0.33093288 0.33772354 0.33134357]\n",
      " [0.33132919 0.33742879 0.33124201]\n",
      " [0.33008784 0.33826711 0.33164504]\n",
      " [0.33127741 0.33753754 0.33118505]\n",
      " [0.3314442  0.33741589 0.3311399 ]\n",
      " [0.32976794 0.33846546 0.3317666 ]\n",
      " [0.33088871 0.33796536 0.33114593]\n",
      " [0.33149679 0.33748313 0.33102008]\n",
      " [0.32932942 0.33857541 0.33209516]\n",
      " [0.32854948 0.33960137 0.33184915]\n",
      " [0.32938512 0.33868878 0.33192611]\n",
      " [0.32847054 0.3397053  0.33182416]\n",
      " [0.32882864 0.33923397 0.33193739]\n",
      " [0.32832567 0.33989607 0.33177826]\n",
      " [0.32829097 0.33994177 0.33176726]\n",
      " [0.32829412 0.33993761 0.33176826]\n",
      " [0.3290486  0.33970153 0.33124987]\n",
      " [0.32899667 0.3390219  0.33198143]\n",
      " [0.32939791 0.33962332 0.33097877]\n",
      " [0.32798284 0.34034773 0.33166943]\n",
      " [0.32982643 0.3394624  0.33071117]\n",
      " [0.33095061 0.33872643 0.33032296]\n",
      " [0.33002438 0.33942023 0.3305554 ]\n",
      " [0.33417442 0.33592645 0.32989913]\n",
      " [0.33280804 0.33728108 0.32991087]\n",
      " [0.33415331 0.33601954 0.32982715]\n",
      " [0.33043458 0.33930007 0.33026535]]\n"
     ]
    }
   ],
   "source": [
    "# Experience everything we have taken so far\n",
    "\n",
    "X, y = spiral_data( samples=(100) , classes=3)# 100 samples represented by 2 features classify on 3 classes\n",
    "\n",
    "layer1 = Layer_Dense( 2 , 3)\n",
    "activation1 =  Activation_ReLU()\n",
    "\n",
    "layer2 = Layer_Dense(3, 3) # output layer \n",
    "activation2 = Activation_Softmax() \n",
    "\n",
    "layer1.forward(X)\n",
    "activation1. forward (layer1.output)\n",
    "\n",
    "layer2. forward(activation1.output)\n",
    "activation2. forward(layer2.output)\n",
    "\n",
    "print (activation2.output) # Show me the results just for the first 50 samples "
   ]
  },
  {
   "cell_type": "code",
   "execution_count": 93,
   "id": "463086ba",
   "metadata": {},
   "outputs": [
    {
     "data": {
      "text/plain": [
       "array([0, 0, 0, 0, 0, 0, 0, 0, 0, 0, 0, 0, 0, 0, 0, 0, 0, 0, 0, 0, 0, 0,\n",
       "       0, 0, 0, 0, 0, 0, 0, 0, 0, 0, 0, 0, 0, 0, 0, 0, 0, 0, 0, 0, 0, 0,\n",
       "       0, 0, 0, 0, 0, 0, 0, 0, 0, 0, 0, 0, 0, 0, 0, 0, 0, 0, 0, 0, 0, 0,\n",
       "       0, 0, 0, 0, 0, 0, 0, 0, 0, 0, 0, 0, 0, 0, 0, 0, 0, 0, 0, 0, 0, 0,\n",
       "       0, 0, 0, 0, 0, 0, 0, 0, 0, 0, 0, 0, 1, 1, 1, 1, 1, 1, 1, 1, 1, 1,\n",
       "       1, 1, 1, 1, 1, 1, 1, 1, 1, 1, 1, 1, 1, 1, 1, 1, 1, 1, 1, 1, 1, 1,\n",
       "       1, 1, 1, 1, 1, 1, 1, 1, 1, 1, 1, 1, 1, 1, 1, 1, 1, 1, 1, 1, 1, 1,\n",
       "       1, 1, 1, 1, 1, 1, 1, 1, 1, 1, 1, 1, 1, 1, 1, 1, 1, 1, 1, 1, 1, 1,\n",
       "       1, 1, 1, 1, 1, 1, 1, 1, 1, 1, 1, 1, 1, 1, 1, 1, 1, 1, 1, 1, 1, 1,\n",
       "       1, 1, 2, 2, 2, 2, 2, 2, 2, 2, 2, 2, 2, 2, 2, 2, 2, 2, 2, 2, 2, 2,\n",
       "       2, 2, 2, 2, 2, 2, 2, 2, 2, 2, 2, 2, 2, 2, 2, 2, 2, 2, 2, 2, 2, 2,\n",
       "       2, 2, 2, 2, 2, 2, 2, 2, 2, 2, 2, 2, 2, 2, 2, 2, 2, 2, 2, 2, 2, 2,\n",
       "       2, 2, 2, 2, 2, 2, 2, 2, 2, 2, 2, 2, 2, 2, 2, 2, 2, 2, 2, 2, 2, 2,\n",
       "       2, 2, 2, 2, 2, 2, 2, 2, 2, 2, 2, 2, 2, 2], dtype=uint8)"
      ]
     },
     "execution_count": 93,
     "metadata": {},
     "output_type": "execute_result"
    }
   ],
   "source": [
    "y"
   ]
  },
  {
   "cell_type": "markdown",
   "id": "5aa4e1f1",
   "metadata": {},
   "source": [
    "   # Loss Function - Cross Entropy  For Classifcation "
   ]
  },
  {
   "cell_type": "code",
   "execution_count": 96,
   "id": "d42a4514",
   "metadata": {},
   "outputs": [],
   "source": [
    "# One hot encoding is a vector of zeros and one, the length of it = the number of classes we have. \n",
    "# log without specific basic = mean that the basic is e so (len) natural log \n",
    "\n",
    "# e ** x = b === len(b) = x e rias to what to get b \n"
   ]
  },
  {
   "cell_type": "code",
   "execution_count": 97,
   "id": "cc24423d",
   "metadata": {},
   "outputs": [],
   "source": [
    "softmax_output = [0.7,0.2,0.1]\n",
    "target_output = [1, 0,0]"
   ]
  },
  {
   "cell_type": "code",
   "execution_count": 98,
   "id": "edc9fdfa",
   "metadata": {},
   "outputs": [],
   "source": [
    "loss = -(math.log(softmax_output[0])*target_output[0]+\n",
    "        math.log(softmax_output[1])*target_output[1]+\n",
    "        math.log(softmax_output[2])*target_output[2])\n",
    "# use negative sign cauze the probability is between [0,1] => log[0-1] is negative . -(-) => + "
   ]
  },
  {
   "cell_type": "code",
   "execution_count": 99,
   "id": "c42cf6c4",
   "metadata": {},
   "outputs": [
    {
     "data": {
      "text/plain": [
       "0.35667494393873245"
      ]
     },
     "execution_count": 99,
     "metadata": {},
     "output_type": "execute_result"
    }
   ],
   "source": [
    "loss"
   ]
  },
  {
   "cell_type": "code",
   "execution_count": 100,
   "id": "b656cd98",
   "metadata": {},
   "outputs": [],
   "source": [
    "# to smplify formula \n",
    "loss2 = -math.log(softmax_output[0])"
   ]
  },
  {
   "cell_type": "code",
   "execution_count": 101,
   "id": "6a5d16f3",
   "metadata": {},
   "outputs": [
    {
     "data": {
      "text/plain": [
       "0.35667494393873245"
      ]
     },
     "execution_count": 101,
     "metadata": {},
     "output_type": "execute_result"
    }
   ],
   "source": [
    "loss2 # same"
   ]
  },
  {
   "cell_type": "code",
   "execution_count": 102,
   "id": "0c4785e4",
   "metadata": {},
   "outputs": [],
   "source": [
    "class Loss: #a base class for different types of loss functions\n",
    "    def calculate(self, output, y):\n",
    "        sample_losses = self.forward(output, y) #computing the loss for each individual sample in the batch.\n",
    "        data_loss = np.mean(sample_losses)\n",
    "        return data_loss\n",
    "    \n",
    "class Loss_CategoricalCrossentropy(Loss): #subclass\n",
    "    def forward(self, y_pred, y_true):\n",
    "        y_pred_clipped = np.clip(y_pred, 1e-7, 1 - 1e-7) # to avoid log(0) issue \n",
    "        samples = len(y_pred)\n",
    "        sample_losses = np.zeros(samples)\n",
    "        # the true_y is not one hot encoded\n",
    "        for i in range(samples):\n",
    "            probabilities = y_pred_clipped[i]\n",
    "            true_label = y_true[i]\n",
    "            loss = -np.log(probabilities[true_label]) # id the prob/confidence of target class is small then the -log => (loss) is large\n",
    "            sample_losses[i] = loss\n",
    "        return sample_losses"
   ]
  },
  {
   "cell_type": "code",
   "execution_count": 103,
   "id": "af432cba",
   "metadata": {},
   "outputs": [],
   "source": [
    "y_pred_clipped = np.clip(activation2.output, 1e-7, 1 - 1e-7)"
   ]
  },
  {
   "cell_type": "code",
   "execution_count": 104,
   "id": "48f06ff1",
   "metadata": {},
   "outputs": [
    {
     "data": {
      "text/plain": [
       "300"
      ]
     },
     "execution_count": 104,
     "metadata": {},
     "output_type": "execute_result"
    }
   ],
   "source": [
    "len(y_pred_clipped[np.arange(len(activation2.output)), y])"
   ]
  },
  {
   "cell_type": "code",
   "execution_count": 107,
   "id": "446439ae",
   "metadata": {},
   "outputs": [],
   "source": [
    "entopy_loss_function = Loss_CategoricalCrossentropy ()\n",
    "loss = entopy_loss_function.calculate(activation2.output, y)"
   ]
  },
  {
   "cell_type": "code",
   "execution_count": 108,
   "id": "7acad0f3",
   "metadata": {},
   "outputs": [
    {
     "data": {
      "text/plain": [
       "1.0990548947582486"
      ]
     },
     "execution_count": 108,
     "metadata": {},
     "output_type": "execute_result"
    }
   ],
   "source": [
    "loss"
   ]
  }
 ],
 "metadata": {
  "kernelspec": {
   "display_name": "Python 3 (ipykernel)",
   "language": "python",
   "name": "python3"
  },
  "language_info": {
   "codemirror_mode": {
    "name": "ipython",
    "version": 3
   },
   "file_extension": ".py",
   "mimetype": "text/x-python",
   "name": "python",
   "nbconvert_exporter": "python",
   "pygments_lexer": "ipython3",
   "version": "3.12.4"
  }
 },
 "nbformat": 4,
 "nbformat_minor": 5
}
